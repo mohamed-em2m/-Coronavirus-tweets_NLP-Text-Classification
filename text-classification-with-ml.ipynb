{
 "cells": [
  {
   "cell_type": "code",
   "execution_count": 1,
   "id": "48241838",
   "metadata": {
    "execution": {
     "iopub.execute_input": "2023-06-21T05:19:16.458282Z",
     "iopub.status.busy": "2023-06-21T05:19:16.457909Z",
     "iopub.status.idle": "2023-06-21T05:19:16.468292Z",
     "shell.execute_reply": "2023-06-21T05:19:16.467370Z"
    },
    "papermill": {
     "duration": 0.028957,
     "end_time": "2023-06-21T05:19:16.470529",
     "exception": false,
     "start_time": "2023-06-21T05:19:16.441572",
     "status": "completed"
    },
    "tags": []
   },
   "outputs": [],
   "source": [
    "import warnings"
   ]
  },
  {
   "cell_type": "code",
   "execution_count": 2,
   "id": "edc77135",
   "metadata": {
    "execution": {
     "iopub.execute_input": "2023-06-21T05:19:16.500800Z",
     "iopub.status.busy": "2023-06-21T05:19:16.500415Z",
     "iopub.status.idle": "2023-06-21T05:19:16.504985Z",
     "shell.execute_reply": "2023-06-21T05:19:16.504014Z"
    },
    "papermill": {
     "duration": 0.022324,
     "end_time": "2023-06-21T05:19:16.507252",
     "exception": false,
     "start_time": "2023-06-21T05:19:16.484928",
     "status": "completed"
    },
    "tags": []
   },
   "outputs": [],
   "source": [
    "warnings.filterwarnings('ignore')"
   ]
  },
  {
   "cell_type": "markdown",
   "id": "53f01d13",
   "metadata": {
    "papermill": {
     "duration": 0.015673,
     "end_time": "2023-06-21T05:19:16.537484",
     "exception": false,
     "start_time": "2023-06-21T05:19:16.521811",
     "status": "completed"
    },
    "tags": []
   },
   "source": [
    "# import libaries"
   ]
  },
  {
   "cell_type": "code",
   "execution_count": 3,
   "id": "d0a4a208",
   "metadata": {
    "_cell_guid": "b1076dfc-b9ad-4769-8c92-a6c4dae69d19",
    "_uuid": "8f2839f25d086af736a60e9eeb907d3b93b6e0e5",
    "execution": {
     "iopub.execute_input": "2023-06-21T05:19:16.568791Z",
     "iopub.status.busy": "2023-06-21T05:19:16.568412Z",
     "iopub.status.idle": "2023-06-21T05:19:18.569689Z",
     "shell.execute_reply": "2023-06-21T05:19:18.568600Z"
    },
    "papermill": {
     "duration": 2.020042,
     "end_time": "2023-06-21T05:19:18.572459",
     "exception": false,
     "start_time": "2023-06-21T05:19:16.552417",
     "status": "completed"
    },
    "tags": []
   },
   "outputs": [],
   "source": [
    "import numpy as np # linear algebra\n",
    "import pandas as pd # data processing, CSV file I/O (e.g. pd.read_csv)\n",
    "import nltk\n",
    "import re\n",
    "import string\n",
    "import os\n",
    "from nltk.stem import WordNetLemmatizer\n",
    "import  matplotlib as mpl\n",
    "import matplotlib.pyplot as plt"
   ]
  },
  {
   "cell_type": "code",
   "execution_count": 4,
   "id": "babaaf8e",
   "metadata": {
    "execution": {
     "iopub.execute_input": "2023-06-21T05:19:18.603274Z",
     "iopub.status.busy": "2023-06-21T05:19:18.602910Z",
     "iopub.status.idle": "2023-06-21T05:19:19.460083Z",
     "shell.execute_reply": "2023-06-21T05:19:19.459008Z"
    },
    "papermill": {
     "duration": 0.875789,
     "end_time": "2023-06-21T05:19:19.462876",
     "exception": false,
     "start_time": "2023-06-21T05:19:18.587087",
     "status": "completed"
    },
    "tags": []
   },
   "outputs": [],
   "source": [
    "from sklearn.feature_extraction.text import CountVectorizer ,TfidfVectorizer\n",
    "from sklearn.svm import SVC ,LinearSVC \n",
    "from sklearn .model_selection import train_test_split ,GridSearchCV \n",
    "from sklearn.preprocessing import StandardScaler ,MinMaxScaler\n",
    "from sklearn.ensemble import RandomForestClassifier ,ExtraTreesClassifier ,VotingClassifier  ,AdaBoostClassifier\n",
    "from xgboost import XGBClassifier\n",
    "from sklearn.linear_model import RidgeClassifier ,SGDClassifier,LogisticRegression\n",
    "import seaborn as sns\n",
    "from sklearn.metrics import classification_report , confusion_matrix\n",
    "from sklearn.naive_bayes import MultinomialNB"
   ]
  },
  {
   "cell_type": "code",
   "execution_count": 5,
   "id": "78ebd8b1",
   "metadata": {
    "execution": {
     "iopub.execute_input": "2023-06-21T05:19:19.493604Z",
     "iopub.status.busy": "2023-06-21T05:19:19.493204Z",
     "iopub.status.idle": "2023-06-21T05:19:19.498632Z",
     "shell.execute_reply": "2023-06-21T05:19:19.497704Z"
    },
    "papermill": {
     "duration": 0.023667,
     "end_time": "2023-06-21T05:19:19.501033",
     "exception": false,
     "start_time": "2023-06-21T05:19:19.477366",
     "status": "completed"
    },
    "tags": []
   },
   "outputs": [],
   "source": [
    "#mpl.rcParams['axes.grid'] = False\n",
    "mpl.rcParams['figure.figsize'] = 10, 7"
   ]
  },
  {
   "cell_type": "markdown",
   "id": "ebae5131",
   "metadata": {
    "papermill": {
     "duration": 0.014276,
     "end_time": "2023-06-21T05:19:19.529673",
     "exception": false,
     "start_time": "2023-06-21T05:19:19.515397",
     "status": "completed"
    },
    "tags": []
   },
   "source": [
    "# function of preprocessing"
   ]
  },
  {
   "cell_type": "code",
   "execution_count": 6,
   "id": "b0659df7",
   "metadata": {
    "execution": {
     "iopub.execute_input": "2023-06-21T05:19:19.561046Z",
     "iopub.status.busy": "2023-06-21T05:19:19.560642Z",
     "iopub.status.idle": "2023-06-21T05:19:19.571338Z",
     "shell.execute_reply": "2023-06-21T05:19:19.570445Z"
    },
    "papermill": {
     "duration": 0.029036,
     "end_time": "2023-06-21T05:19:19.573636",
     "exception": false,
     "start_time": "2023-06-21T05:19:19.544600",
     "status": "completed"
    },
    "tags": []
   },
   "outputs": [],
   "source": [
    "stop=nltk.corpus.stopwords.words('english')"
   ]
  },
  {
   "cell_type": "code",
   "execution_count": 7,
   "id": "6924f175",
   "metadata": {
    "execution": {
     "iopub.execute_input": "2023-06-21T05:19:19.603788Z",
     "iopub.status.busy": "2023-06-21T05:19:19.603417Z",
     "iopub.status.idle": "2023-06-21T05:19:19.608471Z",
     "shell.execute_reply": "2023-06-21T05:19:19.607445Z"
    },
    "papermill": {
     "duration": 0.022621,
     "end_time": "2023-06-21T05:19:19.610631",
     "exception": false,
     "start_time": "2023-06-21T05:19:19.588010",
     "status": "completed"
    },
    "tags": []
   },
   "outputs": [],
   "source": [
    "def remove_punc(x):\n",
    "    return ''.join([i for i in x if i not in string.punctuation]).lower()"
   ]
  },
  {
   "cell_type": "code",
   "execution_count": 8,
   "id": "8fdd02ee",
   "metadata": {
    "execution": {
     "iopub.execute_input": "2023-06-21T05:19:19.641104Z",
     "iopub.status.busy": "2023-06-21T05:19:19.640732Z",
     "iopub.status.idle": "2023-06-21T05:19:19.645337Z",
     "shell.execute_reply": "2023-06-21T05:19:19.644327Z"
    },
    "papermill": {
     "duration": 0.022936,
     "end_time": "2023-06-21T05:19:19.647892",
     "exception": false,
     "start_time": "2023-06-21T05:19:19.624956",
     "status": "completed"
    },
    "tags": []
   },
   "outputs": [],
   "source": [
    "def spilt_txt(x):\n",
    "    return re.split('\\W+',x)"
   ]
  },
  {
   "cell_type": "code",
   "execution_count": 9,
   "id": "4cacb5d5",
   "metadata": {
    "execution": {
     "iopub.execute_input": "2023-06-21T05:19:19.678074Z",
     "iopub.status.busy": "2023-06-21T05:19:19.677665Z",
     "iopub.status.idle": "2023-06-21T05:19:19.682932Z",
     "shell.execute_reply": "2023-06-21T05:19:19.681827Z"
    },
    "papermill": {
     "duration": 0.023177,
     "end_time": "2023-06-21T05:19:19.685225",
     "exception": false,
     "start_time": "2023-06-21T05:19:19.662048",
     "status": "completed"
    },
    "tags": []
   },
   "outputs": [],
   "source": [
    "lemma=WordNetLemmatizer()\n",
    "def remove_stop(x):\n",
    "    return ' '.join([lemma.lemmatize(i) for i in x if i not in stop])"
   ]
  },
  {
   "cell_type": "markdown",
   "id": "dae7b824",
   "metadata": {
    "papermill": {
     "duration": 0.013914,
     "end_time": "2023-06-21T05:19:19.713269",
     "exception": false,
     "start_time": "2023-06-21T05:19:19.699355",
     "status": "completed"
    },
    "tags": []
   },
   "source": [
    "# read dataset"
   ]
  },
  {
   "cell_type": "code",
   "execution_count": 10,
   "id": "eb1f045b",
   "metadata": {
    "execution": {
     "iopub.execute_input": "2023-06-21T05:19:19.743148Z",
     "iopub.status.busy": "2023-06-21T05:19:19.742766Z",
     "iopub.status.idle": "2023-06-21T05:19:20.131106Z",
     "shell.execute_reply": "2023-06-21T05:19:20.130056Z"
    },
    "papermill": {
     "duration": 0.406594,
     "end_time": "2023-06-21T05:19:20.133966",
     "exception": false,
     "start_time": "2023-06-21T05:19:19.727372",
     "status": "completed"
    },
    "tags": []
   },
   "outputs": [],
   "source": [
    "data_train=pd.read_csv('/kaggle/input/covid-19-nlp-text-classification/Corona_NLP_train.csv',encoding='latin-1')\n",
    "data_test=pd.read_csv('/kaggle/input/covid-19-nlp-text-classification/Corona_NLP_test.csv',encoding='latin-1')"
   ]
  },
  {
   "cell_type": "code",
   "execution_count": 11,
   "id": "7cb6ec29",
   "metadata": {
    "execution": {
     "iopub.execute_input": "2023-06-21T05:19:20.164861Z",
     "iopub.status.busy": "2023-06-21T05:19:20.164455Z",
     "iopub.status.idle": "2023-06-21T05:19:20.198507Z",
     "shell.execute_reply": "2023-06-21T05:19:20.197436Z"
    },
    "papermill": {
     "duration": 0.052598,
     "end_time": "2023-06-21T05:19:20.201163",
     "exception": false,
     "start_time": "2023-06-21T05:19:20.148565",
     "status": "completed"
    },
    "tags": []
   },
   "outputs": [
    {
     "data": {
      "text/html": [
       "<div>\n",
       "<style scoped>\n",
       "    .dataframe tbody tr th:only-of-type {\n",
       "        vertical-align: middle;\n",
       "    }\n",
       "\n",
       "    .dataframe tbody tr th {\n",
       "        vertical-align: top;\n",
       "    }\n",
       "\n",
       "    .dataframe thead th {\n",
       "        text-align: right;\n",
       "    }\n",
       "</style>\n",
       "<table border=\"1\" class=\"dataframe\">\n",
       "  <thead>\n",
       "    <tr style=\"text-align: right;\">\n",
       "      <th></th>\n",
       "      <th>UserName</th>\n",
       "      <th>ScreenName</th>\n",
       "      <th>Location</th>\n",
       "      <th>TweetAt</th>\n",
       "      <th>OriginalTweet</th>\n",
       "      <th>Sentiment</th>\n",
       "    </tr>\n",
       "  </thead>\n",
       "  <tbody>\n",
       "    <tr>\n",
       "      <th>0</th>\n",
       "      <td>3799</td>\n",
       "      <td>48751</td>\n",
       "      <td>London</td>\n",
       "      <td>16-03-2020</td>\n",
       "      <td>@MeNyrbie @Phil_Gahan @Chrisitv https://t.co/i...</td>\n",
       "      <td>Neutral</td>\n",
       "    </tr>\n",
       "    <tr>\n",
       "      <th>1</th>\n",
       "      <td>3800</td>\n",
       "      <td>48752</td>\n",
       "      <td>UK</td>\n",
       "      <td>16-03-2020</td>\n",
       "      <td>advice Talk to your neighbours family to excha...</td>\n",
       "      <td>Positive</td>\n",
       "    </tr>\n",
       "    <tr>\n",
       "      <th>2</th>\n",
       "      <td>3801</td>\n",
       "      <td>48753</td>\n",
       "      <td>Vagabonds</td>\n",
       "      <td>16-03-2020</td>\n",
       "      <td>Coronavirus Australia: Woolworths to give elde...</td>\n",
       "      <td>Positive</td>\n",
       "    </tr>\n",
       "    <tr>\n",
       "      <th>3</th>\n",
       "      <td>3802</td>\n",
       "      <td>48754</td>\n",
       "      <td>NaN</td>\n",
       "      <td>16-03-2020</td>\n",
       "      <td>My food stock is not the only one which is emp...</td>\n",
       "      <td>Positive</td>\n",
       "    </tr>\n",
       "    <tr>\n",
       "      <th>4</th>\n",
       "      <td>3803</td>\n",
       "      <td>48755</td>\n",
       "      <td>NaN</td>\n",
       "      <td>16-03-2020</td>\n",
       "      <td>Me, ready to go at supermarket during the #COV...</td>\n",
       "      <td>Extremely Negative</td>\n",
       "    </tr>\n",
       "    <tr>\n",
       "      <th>...</th>\n",
       "      <td>...</td>\n",
       "      <td>...</td>\n",
       "      <td>...</td>\n",
       "      <td>...</td>\n",
       "      <td>...</td>\n",
       "      <td>...</td>\n",
       "    </tr>\n",
       "    <tr>\n",
       "      <th>41152</th>\n",
       "      <td>44951</td>\n",
       "      <td>89903</td>\n",
       "      <td>Wellington City, New Zealand</td>\n",
       "      <td>14-04-2020</td>\n",
       "      <td>Airline pilots offering to stock supermarket s...</td>\n",
       "      <td>Neutral</td>\n",
       "    </tr>\n",
       "    <tr>\n",
       "      <th>41153</th>\n",
       "      <td>44952</td>\n",
       "      <td>89904</td>\n",
       "      <td>NaN</td>\n",
       "      <td>14-04-2020</td>\n",
       "      <td>Response to complaint not provided citing COVI...</td>\n",
       "      <td>Extremely Negative</td>\n",
       "    </tr>\n",
       "    <tr>\n",
       "      <th>41154</th>\n",
       "      <td>44953</td>\n",
       "      <td>89905</td>\n",
       "      <td>NaN</td>\n",
       "      <td>14-04-2020</td>\n",
       "      <td>You know itÂs getting tough when @KameronWild...</td>\n",
       "      <td>Positive</td>\n",
       "    </tr>\n",
       "    <tr>\n",
       "      <th>41155</th>\n",
       "      <td>44954</td>\n",
       "      <td>89906</td>\n",
       "      <td>NaN</td>\n",
       "      <td>14-04-2020</td>\n",
       "      <td>Is it wrong that the smell of hand sanitizer i...</td>\n",
       "      <td>Neutral</td>\n",
       "    </tr>\n",
       "    <tr>\n",
       "      <th>41156</th>\n",
       "      <td>44955</td>\n",
       "      <td>89907</td>\n",
       "      <td>i love you so much || he/him</td>\n",
       "      <td>14-04-2020</td>\n",
       "      <td>@TartiiCat Well new/used Rift S are going for ...</td>\n",
       "      <td>Negative</td>\n",
       "    </tr>\n",
       "  </tbody>\n",
       "</table>\n",
       "<p>41157 rows × 6 columns</p>\n",
       "</div>"
      ],
      "text/plain": [
       "       UserName  ScreenName                      Location     TweetAt  \\\n",
       "0          3799       48751                        London  16-03-2020   \n",
       "1          3800       48752                            UK  16-03-2020   \n",
       "2          3801       48753                     Vagabonds  16-03-2020   \n",
       "3          3802       48754                           NaN  16-03-2020   \n",
       "4          3803       48755                           NaN  16-03-2020   \n",
       "...         ...         ...                           ...         ...   \n",
       "41152     44951       89903  Wellington City, New Zealand  14-04-2020   \n",
       "41153     44952       89904                           NaN  14-04-2020   \n",
       "41154     44953       89905                           NaN  14-04-2020   \n",
       "41155     44954       89906                           NaN  14-04-2020   \n",
       "41156     44955       89907  i love you so much || he/him  14-04-2020   \n",
       "\n",
       "                                           OriginalTweet           Sentiment  \n",
       "0      @MeNyrbie @Phil_Gahan @Chrisitv https://t.co/i...             Neutral  \n",
       "1      advice Talk to your neighbours family to excha...            Positive  \n",
       "2      Coronavirus Australia: Woolworths to give elde...            Positive  \n",
       "3      My food stock is not the only one which is emp...            Positive  \n",
       "4      Me, ready to go at supermarket during the #COV...  Extremely Negative  \n",
       "...                                                  ...                 ...  \n",
       "41152  Airline pilots offering to stock supermarket s...             Neutral  \n",
       "41153  Response to complaint not provided citing COVI...  Extremely Negative  \n",
       "41154  You know itÂs getting tough when @KameronWild...            Positive  \n",
       "41155  Is it wrong that the smell of hand sanitizer i...             Neutral  \n",
       "41156  @TartiiCat Well new/used Rift S are going for ...            Negative  \n",
       "\n",
       "[41157 rows x 6 columns]"
      ]
     },
     "execution_count": 11,
     "metadata": {},
     "output_type": "execute_result"
    }
   ],
   "source": [
    "data_train"
   ]
  },
  {
   "cell_type": "code",
   "execution_count": 12,
   "id": "0596ebf6",
   "metadata": {
    "execution": {
     "iopub.execute_input": "2023-06-21T05:19:20.232615Z",
     "iopub.status.busy": "2023-06-21T05:19:20.231587Z",
     "iopub.status.idle": "2023-06-21T05:19:20.239493Z",
     "shell.execute_reply": "2023-06-21T05:19:20.238562Z"
    },
    "papermill": {
     "duration": 0.025812,
     "end_time": "2023-06-21T05:19:20.241743",
     "exception": false,
     "start_time": "2023-06-21T05:19:20.215931",
     "status": "completed"
    },
    "tags": []
   },
   "outputs": [],
   "source": [
    "data=pd.concat([data_train,data_test])"
   ]
  },
  {
   "cell_type": "markdown",
   "id": "cddb2d61",
   "metadata": {
    "papermill": {
     "duration": 0.014344,
     "end_time": "2023-06-21T05:19:20.271011",
     "exception": false,
     "start_time": "2023-06-21T05:19:20.256667",
     "status": "completed"
    },
    "tags": []
   },
   "source": [
    "# encode function"
   ]
  },
  {
   "cell_type": "code",
   "execution_count": 13,
   "id": "e3a3b968",
   "metadata": {
    "execution": {
     "iopub.execute_input": "2023-06-21T05:19:20.302814Z",
     "iopub.status.busy": "2023-06-21T05:19:20.301642Z",
     "iopub.status.idle": "2023-06-21T05:19:20.307001Z",
     "shell.execute_reply": "2023-06-21T05:19:20.306121Z"
    },
    "papermill": {
     "duration": 0.023199,
     "end_time": "2023-06-21T05:19:20.309059",
     "exception": false,
     "start_time": "2023-06-21T05:19:20.285860",
     "status": "completed"
    },
    "tags": []
   },
   "outputs": [],
   "source": [
    "def change(x) :\n",
    "    dic={'Positive':2, 'Neutral':1, 'Extremely Positive':2, 'Extremely Negative':0,\n",
    "       'Negative':0}\n",
    "    return dic[x]"
   ]
  },
  {
   "cell_type": "code",
   "execution_count": 14,
   "id": "92999dae",
   "metadata": {
    "execution": {
     "iopub.execute_input": "2023-06-21T05:19:20.340801Z",
     "iopub.status.busy": "2023-06-21T05:19:20.340005Z",
     "iopub.status.idle": "2023-06-21T05:19:20.360068Z",
     "shell.execute_reply": "2023-06-21T05:19:20.359169Z"
    },
    "papermill": {
     "duration": 0.038274,
     "end_time": "2023-06-21T05:19:20.362326",
     "exception": false,
     "start_time": "2023-06-21T05:19:20.324052",
     "status": "completed"
    },
    "tags": []
   },
   "outputs": [],
   "source": [
    "data=data.sample(len(data))"
   ]
  },
  {
   "cell_type": "code",
   "execution_count": 15,
   "id": "6364145c",
   "metadata": {
    "execution": {
     "iopub.execute_input": "2023-06-21T05:19:20.393143Z",
     "iopub.status.busy": "2023-06-21T05:19:20.392784Z",
     "iopub.status.idle": "2023-06-21T05:19:20.403408Z",
     "shell.execute_reply": "2023-06-21T05:19:20.402461Z"
    },
    "papermill": {
     "duration": 0.028595,
     "end_time": "2023-06-21T05:19:20.405641",
     "exception": false,
     "start_time": "2023-06-21T05:19:20.377046",
     "status": "completed"
    },
    "tags": []
   },
   "outputs": [],
   "source": [
    "data=data[['OriginalTweet','Sentiment']]"
   ]
  },
  {
   "cell_type": "code",
   "execution_count": 16,
   "id": "f70e0696",
   "metadata": {
    "execution": {
     "iopub.execute_input": "2023-06-21T05:19:20.437455Z",
     "iopub.status.busy": "2023-06-21T05:19:20.436524Z",
     "iopub.status.idle": "2023-06-21T05:19:20.839401Z",
     "shell.execute_reply": "2023-06-21T05:19:20.838140Z"
    },
    "papermill": {
     "duration": 0.421194,
     "end_time": "2023-06-21T05:19:20.841718",
     "exception": false,
     "start_time": "2023-06-21T05:19:20.420524",
     "status": "completed"
    },
    "tags": []
   },
   "outputs": [
    {
     "data": {
      "text/plain": [
       "<Axes: >"
      ]
     },
     "execution_count": 16,
     "metadata": {},
     "output_type": "execute_result"
    },
    {
     "data": {
      "image/png": "[encoded data removed]",
      "text/plain": [
       "<Figure size 1000x700 with 1 Axes>"
      ]
     },
     "metadata": {},
     "output_type": "display_data"
    }
   ],
   "source": [
    "data['Sentiment'].hist()"
   ]
  },
  {
   "cell_type": "markdown",
   "id": "b9426103",
   "metadata": {
    "papermill": {
     "duration": 0.014916,
     "end_time": "2023-06-21T05:19:20.871767",
     "exception": false,
     "start_time": "2023-06-21T05:19:20.856851",
     "status": "completed"
    },
    "tags": []
   },
   "source": [
    "# apply preprocessing"
   ]
  },
  {
   "cell_type": "code",
   "execution_count": 17,
   "id": "53a0527c",
   "metadata": {
    "execution": {
     "iopub.execute_input": "2023-06-21T05:19:20.903583Z",
     "iopub.status.busy": "2023-06-21T05:19:20.903163Z",
     "iopub.status.idle": "2023-06-21T05:19:22.352584Z",
     "shell.execute_reply": "2023-06-21T05:19:22.351187Z"
    },
    "papermill": {
     "duration": 1.468567,
     "end_time": "2023-06-21T05:19:22.355412",
     "exception": false,
     "start_time": "2023-06-21T05:19:20.886845",
     "status": "completed"
    },
    "tags": []
   },
   "outputs": [
    {
     "name": "stdout",
     "output_type": "stream",
     "text": [
      "Archive:  /usr/share/nltk_data/corpora/wordnet.zip\r\n",
      "   creating: /usr/share/nltk_data/corpora/wordnet/\r\n",
      "  inflating: /usr/share/nltk_data/corpora/wordnet/lexnames  \r\n",
      "  inflating: /usr/share/nltk_data/corpora/wordnet/data.verb  \r\n",
      "  inflating: /usr/share/nltk_data/corpora/wordnet/index.adv  \r\n",
      "  inflating: /usr/share/nltk_data/corpora/wordnet/adv.exc  \r\n",
      "  inflating: /usr/share/nltk_data/corpora/wordnet/index.verb  \r\n",
      "  inflating: /usr/share/nltk_data/corpora/wordnet/cntlist.rev  \r\n",
      "  inflating: /usr/share/nltk_data/corpora/wordnet/data.adj  \r\n",
      "  inflating: /usr/share/nltk_data/corpora/wordnet/index.adj  \r\n",
      "  inflating: /usr/share/nltk_data/corpora/wordnet/LICENSE  \r\n",
      "  inflating: /usr/share/nltk_data/corpora/wordnet/citation.bib  \r\n",
      "  inflating: /usr/share/nltk_data/corpora/wordnet/noun.exc  \r\n",
      "  inflating: /usr/share/nltk_data/corpora/wordnet/verb.exc  \r\n",
      "  inflating: /usr/share/nltk_data/corpora/wordnet/README  \r\n",
      "  inflating: /usr/share/nltk_data/corpora/wordnet/index.sense  \r\n",
      "  inflating: /usr/share/nltk_data/corpora/wordnet/data.noun  \r\n",
      "  inflating: /usr/share/nltk_data/corpora/wordnet/data.adv  \r\n",
      "  inflating: /usr/share/nltk_data/corpora/wordnet/index.noun  \r\n",
      "  inflating: /usr/share/nltk_data/corpora/wordnet/adj.exc  \r\n"
     ]
    }
   ],
   "source": [
    "!unzip /usr/share/nltk_data/corpora/wordnet.zip -d /usr/share/nltk_data/corpora/"
   ]
  },
  {
   "cell_type": "code",
   "execution_count": 18,
   "id": "027f1ce4",
   "metadata": {
    "execution": {
     "iopub.execute_input": "2023-06-21T05:19:22.389031Z",
     "iopub.status.busy": "2023-06-21T05:19:22.388602Z",
     "iopub.status.idle": "2023-06-21T05:19:36.540647Z",
     "shell.execute_reply": "2023-06-21T05:19:36.539526Z"
    },
    "papermill": {
     "duration": 14.172333,
     "end_time": "2023-06-21T05:19:36.543516",
     "exception": false,
     "start_time": "2023-06-21T05:19:22.371183",
     "status": "completed"
    },
    "tags": []
   },
   "outputs": [],
   "source": [
    "data['OriginalTweet']=data['OriginalTweet'].apply(lambda x:remove_punc(x))\n",
    "data['OriginalTweet']=data['OriginalTweet'].apply(lambda x:spilt_txt(x))\n",
    "data['OriginalTweet']=data['OriginalTweet'].apply(lambda x:remove_stop(x))\n",
    "data['text']=data['Sentiment']\n",
    "data['Sentiment']=data['Sentiment'].apply(lambda x:change(x))\n"
   ]
  },
  {
   "cell_type": "code",
   "execution_count": 19,
   "id": "1d6c606a",
   "metadata": {
    "execution": {
     "iopub.execute_input": "2023-06-21T05:19:36.577199Z",
     "iopub.status.busy": "2023-06-21T05:19:36.576816Z",
     "iopub.status.idle": "2023-06-21T05:19:36.585912Z",
     "shell.execute_reply": "2023-06-21T05:19:36.585087Z"
    },
    "papermill": {
     "duration": 0.028864,
     "end_time": "2023-06-21T05:19:36.588220",
     "exception": false,
     "start_time": "2023-06-21T05:19:36.559356",
     "status": "completed"
    },
    "tags": []
   },
   "outputs": [
    {
     "data": {
      "text/plain": [
       "array([2, 0, 1])"
      ]
     },
     "execution_count": 19,
     "metadata": {},
     "output_type": "execute_result"
    }
   ],
   "source": [
    "data['Sentiment'].unique()"
   ]
  },
  {
   "cell_type": "code",
   "execution_count": 20,
   "id": "1cb9abeb",
   "metadata": {
    "execution": {
     "iopub.execute_input": "2023-06-21T05:19:36.623368Z",
     "iopub.status.busy": "2023-06-21T05:19:36.623007Z",
     "iopub.status.idle": "2023-06-21T05:19:36.627389Z",
     "shell.execute_reply": "2023-06-21T05:19:36.626405Z"
    },
    "papermill": {
     "duration": 0.025682,
     "end_time": "2023-06-21T05:19:36.629499",
     "exception": false,
     "start_time": "2023-06-21T05:19:36.603817",
     "status": "completed"
    },
    "tags": []
   },
   "outputs": [],
   "source": [
    "from sklearn.decomposition import PCA"
   ]
  },
  {
   "cell_type": "code",
   "execution_count": 21,
   "id": "d19ac40d",
   "metadata": {
    "execution": {
     "iopub.execute_input": "2023-06-21T05:19:36.662109Z",
     "iopub.status.busy": "2023-06-21T05:19:36.661745Z",
     "iopub.status.idle": "2023-06-21T05:19:50.112604Z",
     "shell.execute_reply": "2023-06-21T05:19:50.111419Z"
    },
    "papermill": {
     "duration": 13.470234,
     "end_time": "2023-06-21T05:19:50.115187",
     "exception": false,
     "start_time": "2023-06-21T05:19:36.644953",
     "status": "completed"
    },
    "tags": []
   },
   "outputs": [
    {
     "name": "stdout",
     "output_type": "stream",
     "text": [
      "Requirement already satisfied: plotly in /opt/conda/lib/python3.10/site-packages (5.14.1)\r\n",
      "Requirement already satisfied: tenacity>=6.2.0 in /opt/conda/lib/python3.10/site-packages (from plotly) (8.2.2)\r\n",
      "Requirement already satisfied: packaging in /opt/conda/lib/python3.10/site-packages (from plotly) (21.3)\r\n",
      "Requirement already satisfied: pyparsing!=3.0.5,>=2.0.2 in /opt/conda/lib/python3.10/site-packages (from packaging->plotly) (3.0.9)\r\n",
      "\u001b[33mWARNING: Running pip as the 'root' user can result in broken permissions and conflicting behaviour with the system package manager. It is recommended to use a virtual environment instead: https://pip.pypa.io/warnings/venv\u001b[0m\u001b[33m\r\n",
      "\u001b[0m"
     ]
    }
   ],
   "source": [
    "!pip install plotly"
   ]
  },
  {
   "cell_type": "markdown",
   "id": "8495bec0",
   "metadata": {
    "papermill": {
     "duration": 0.015735,
     "end_time": "2023-06-21T05:19:50.147320",
     "exception": false,
     "start_time": "2023-06-21T05:19:50.131585",
     "status": "completed"
    },
    "tags": []
   },
   "source": [
    "# Vectoriztion"
   ]
  },
  {
   "cell_type": "code",
   "execution_count": 22,
   "id": "d2e730f2",
   "metadata": {
    "execution": {
     "iopub.execute_input": "2023-06-21T05:19:50.179425Z",
     "iopub.status.busy": "2023-06-21T05:19:50.179019Z",
     "iopub.status.idle": "2023-06-21T05:19:53.434754Z",
     "shell.execute_reply": "2023-06-21T05:19:53.433543Z"
    },
    "papermill": {
     "duration": 3.275228,
     "end_time": "2023-06-21T05:19:53.437547",
     "exception": false,
     "start_time": "2023-06-21T05:19:50.162319",
     "status": "completed"
    },
    "tags": []
   },
   "outputs": [],
   "source": [
    "tf_tranform=TfidfVectorizer()\n",
    "x_tf=tf_tranform.fit_transform(data['OriginalTweet'])\n",
    "count_tranform=CountVectorizer()\n",
    "x_count=count_tranform.fit_transform(data['OriginalTweet'])"
   ]
  },
  {
   "cell_type": "code",
   "execution_count": 23,
   "id": "357739d1",
   "metadata": {
    "execution": {
     "iopub.execute_input": "2023-06-21T05:19:53.472967Z",
     "iopub.status.busy": "2023-06-21T05:19:53.472438Z",
     "iopub.status.idle": "2023-06-21T05:19:53.489224Z",
     "shell.execute_reply": "2023-06-21T05:19:53.488209Z"
    },
    "papermill": {
     "duration": 0.038009,
     "end_time": "2023-06-21T05:19:53.491579",
     "exception": false,
     "start_time": "2023-06-21T05:19:53.453570",
     "status": "completed"
    },
    "tags": []
   },
   "outputs": [],
   "source": [
    "x_train,x_test,y_train,y_test =train_test_split(x_count,data['Sentiment'])"
   ]
  },
  {
   "cell_type": "code",
   "execution_count": 24,
   "id": "be82ad8b",
   "metadata": {
    "execution": {
     "iopub.execute_input": "2023-06-21T05:19:53.524349Z",
     "iopub.status.busy": "2023-06-21T05:19:53.524000Z",
     "iopub.status.idle": "2023-06-21T05:20:22.046676Z",
     "shell.execute_reply": "2023-06-21T05:20:22.045520Z"
    },
    "papermill": {
     "duration": 28.541675,
     "end_time": "2023-06-21T05:20:22.049184",
     "exception": false,
     "start_time": "2023-06-21T05:19:53.507509",
     "status": "completed"
    },
    "tags": []
   },
   "outputs": [
    {
     "data": {
      "text/html": [
       "<style>#sk-container-id-1 {color: black;background-color: white;}#sk-container-id-1 pre{padding: 0;}#sk-container-id-1 div.sk-toggleable {background-color: white;}#sk-container-id-1 label.sk-toggleable__label {cursor: pointer;display: block;width: 100%;margin-bottom: 0;padding: 0.3em;box-sizing: border-box;text-align: center;}#sk-container-id-1 label.sk-toggleable__label-arrow:before {content: \"▸\";float: left;margin-right: 0.25em;color: #696969;}#sk-container-id-1 label.sk-toggleable__label-arrow:hover:before {color: black;}#sk-container-id-1 div.sk-estimator:hover label.sk-toggleable__label-arrow:before {color: black;}#sk-container-id-1 div.sk-toggleable__content {max-height: 0;max-width: 0;overflow: hidden;text-align: left;background-color: #f0f8ff;}#sk-container-id-1 div.sk-toggleable__content pre {margin: 0.2em;color: black;border-radius: 0.25em;background-color: #f0f8ff;}#sk-container-id-1 input.sk-toggleable__control:checked~div.sk-toggleable__content {max-height: 200px;max-width: 100%;overflow: auto;}#sk-container-id-1 input.sk-toggleable__control:checked~label.sk-toggleable__label-arrow:before {content: \"▾\";}#sk-container-id-1 div.sk-estimator input.sk-toggleable__control:checked~label.sk-toggleable__label {background-color: #d4ebff;}#sk-container-id-1 div.sk-label input.sk-toggleable__control:checked~label.sk-toggleable__label {background-color: #d4ebff;}#sk-container-id-1 input.sk-hidden--visually {border: 0;clip: rect(1px 1px 1px 1px);clip: rect(1px, 1px, 1px, 1px);height: 1px;margin: -1px;overflow: hidden;padding: 0;position: absolute;width: 1px;}#sk-container-id-1 div.sk-estimator {font-family: monospace;background-color: #f0f8ff;border: 1px dotted black;border-radius: 0.25em;box-sizing: border-box;margin-bottom: 0.5em;}#sk-container-id-1 div.sk-estimator:hover {background-color: #d4ebff;}#sk-container-id-1 div.sk-parallel-item::after {content: \"\";width: 100%;border-bottom: 1px solid gray;flex-grow: 1;}#sk-container-id-1 div.sk-label:hover label.sk-toggleable__label {background-color: #d4ebff;}#sk-container-id-1 div.sk-serial::before {content: \"\";position: absolute;border-left: 1px solid gray;box-sizing: border-box;top: 0;bottom: 0;left: 50%;z-index: 0;}#sk-container-id-1 div.sk-serial {display: flex;flex-direction: column;align-items: center;background-color: white;padding-right: 0.2em;padding-left: 0.2em;position: relative;}#sk-container-id-1 div.sk-item {position: relative;z-index: 1;}#sk-container-id-1 div.sk-parallel {display: flex;align-items: stretch;justify-content: center;background-color: white;position: relative;}#sk-container-id-1 div.sk-item::before, #sk-container-id-1 div.sk-parallel-item::before {content: \"\";position: absolute;border-left: 1px solid gray;box-sizing: border-box;top: 0;bottom: 0;left: 50%;z-index: -1;}#sk-container-id-1 div.sk-parallel-item {display: flex;flex-direction: column;z-index: 1;position: relative;background-color: white;}#sk-container-id-1 div.sk-parallel-item:first-child::after {align-self: flex-end;width: 50%;}#sk-container-id-1 div.sk-parallel-item:last-child::after {align-self: flex-start;width: 50%;}#sk-container-id-1 div.sk-parallel-item:only-child::after {width: 0;}#sk-container-id-1 div.sk-dashed-wrapped {border: 1px dashed gray;margin: 0 0.4em 0.5em 0.4em;box-sizing: border-box;padding-bottom: 0.4em;background-color: white;}#sk-container-id-1 div.sk-label label {font-family: monospace;font-weight: bold;display: inline-block;line-height: 1.2em;}#sk-container-id-1 div.sk-label-container {text-align: center;}#sk-container-id-1 div.sk-container {/* jupyter's `normalize.less` sets `[hidden] { display: none; }` but bootstrap.min.css set `[hidden] { display: none !important; }` so we also need the `!important` here to be able to override the default hidden behavior on the sphinx rendered scikit-learn.org. See: https://github.com/scikit-learn/scikit-learn/issues/21755 */display: inline-block !important;position: relative;}#sk-container-id-1 div.sk-text-repr-fallback {display: none;}</style><div id=\"sk-container-id-1\" class=\"sk-top-container\"><div class=\"sk-text-repr-fallback\"><pre>PCA(n_components=3)</pre><b>In a Jupyter environment, please rerun this cell to show the HTML representation or trust the notebook. <br />On GitHub, the HTML representation is unable to render, please try loading this page with nbviewer.org.</b></div><div class=\"sk-container\" hidden><div class=\"sk-item\"><div class=\"sk-estimator sk-toggleable\"><input class=\"sk-toggleable__control sk-hidden--visually\" id=\"sk-estimator-id-1\" type=\"checkbox\" checked><label for=\"sk-estimator-id-1\" class=\"sk-toggleable__label sk-toggleable__label-arrow\">PCA</label><div class=\"sk-toggleable__content\"><pre>PCA(n_components=3)</pre></div></div></div></div></div>"
      ],
      "text/plain": [
       "PCA(n_components=3)"
      ]
     },
     "execution_count": 24,
     "metadata": {},
     "output_type": "execute_result"
    }
   ],
   "source": [
    "pca=PCA(n_components=3)\n",
    "pca.fit(x_count[:5000].toarray())"
   ]
  },
  {
   "cell_type": "code",
   "execution_count": 25,
   "id": "58546ff8",
   "metadata": {
    "execution": {
     "iopub.execute_input": "2023-06-21T05:20:22.083958Z",
     "iopub.status.busy": "2023-06-21T05:20:22.083525Z",
     "iopub.status.idle": "2023-06-21T05:20:22.202788Z",
     "shell.execute_reply": "2023-06-21T05:20:22.201791Z"
    },
    "papermill": {
     "duration": 0.139381,
     "end_time": "2023-06-21T05:20:22.205192",
     "exception": false,
     "start_time": "2023-06-21T05:20:22.065811",
     "status": "completed"
    },
    "tags": []
   },
   "outputs": [
    {
     "data": {
      "text/html": [
       "        <script type=\"text/javascript\">\n",
       "        window.PlotlyConfig = {MathJaxConfig: 'local'};\n",
       "        if (window.MathJax && window.MathJax.Hub && window.MathJax.Hub.Config) {window.MathJax.Hub.Config({SVG: {font: \"STIX-Web\"}});}\n",
       "        if (typeof require !== 'undefined') {\n",
       "        require.undef(\"plotly\");\n",
       "        requirejs.config({\n",
       "            paths: {\n",
       "                'plotly': ['https://cdn.plot.ly/plotly-2.20.0.min']\n",
       "            }\n",
       "        });\n",
       "        require(['plotly'], function(Plotly) {\n",
       "            window._Plotly = Plotly;\n",
       "        });\n",
       "        }\n",
       "        </script>\n",
       "        "
      ]
     },
     "metadata": {},
     "output_type": "display_data"
    }
   ],
   "source": [
    "from plotly.offline import init_notebook_mode, iplot\n",
    "init_notebook_mode(connected=True)"
   ]
  },
  {
   "cell_type": "code",
   "execution_count": 26,
   "id": "bf0520e9",
   "metadata": {
    "execution": {
     "iopub.execute_input": "2023-06-21T05:20:22.242288Z",
     "iopub.status.busy": "2023-06-21T05:20:22.241200Z",
     "iopub.status.idle": "2023-06-21T05:20:24.998148Z",
     "shell.execute_reply": "2023-06-21T05:20:24.997088Z"
    },
    "papermill": {
     "duration": 2.778573,
     "end_time": "2023-06-21T05:20:25.001506",
     "exception": false,
     "start_time": "2023-06-21T05:20:22.222933",
     "status": "completed"
    },
    "tags": []
   },
   "outputs": [
    {
     "data": {
      "application/vnd.plotly.v1+json": {
       "config": {
        "plotlyServerURL": "https://plot.ly"
       },
       "data": [
        {
         "hovertemplate": "sepal_length=%{x}<br>sepal_width=%{y}<br>petal_width=%{z}<br>text=%{text}<br>color=%{marker.color}<extra></extra>",
         "legendgroup": "",
         "marker": {
          "color": [
           120,
           0,
           0,
           120,
           120,
           0,
           120,
           0,
           120,
           120,
           120,
           60,
           60,
           60,
           60,
           120,
           60,
           120,
           120,
           120,
           60,
           0,
           120,
           0,
           120,
           0,
           0,
           0,
           120,
           60,
           0,
           60,
           120,
           60,
           60,
           60,
           0,
           60,
           0,
           60,
           60,
           120,
           0,
           0,
           0,
           0,
           0,
           120,
           60,
           60,
           0,
           120,
           120,
           120,
           0,
           0,
           120,
           120,
           0,
           0,
           120,
           0,
           0,
           60,
           0,
           0,
           0,
           120,
           120,
           120,
           0,
           60,
           120,
           120,
           60,
           120,
           0,
           120,
           0,
           120,
           60,
           120,
           60,
           0,
           120,
           0,
           120,
           120,
           0,
           0,
           60,
           0,
           120,
           120,
           0,
           0,
           60,
           120,
           120,
           60
          ],
          "coloraxis": "coloraxis",
          "symbol": "circle"
         },
         "mode": "markers+text",
         "name": "",
         "scene": "scene",
         "showlegend": false,
         "text": [
          "Positive",
          "Negative",
          "Negative",
          "Positive",
          "Positive",
          "Extremely Negative",
          "Positive",
          "Negative",
          "Positive",
          "Positive",
          "Extremely Positive",
          "Neutral",
          "Neutral",
          "Neutral",
          "Neutral",
          "Extremely Positive",
          "Neutral",
          "Positive",
          "Positive",
          "Positive",
          "Neutral",
          "Negative",
          "Extremely Positive",
          "Negative",
          "Extremely Positive",
          "Extremely Negative",
          "Negative",
          "Negative",
          "Positive",
          "Neutral",
          "Negative",
          "Neutral",
          "Extremely Positive",
          "Neutral",
          "Neutral",
          "Neutral",
          "Negative",
          "Neutral",
          "Negative",
          "Neutral",
          "Neutral",
          "Extremely Positive",
          "Negative",
          "Extremely Negative",
          "Negative",
          "Negative",
          "Negative",
          "Positive",
          "Neutral",
          "Neutral",
          "Extremely Negative",
          "Positive",
          "Positive",
          "Extremely Positive",
          "Extremely Negative",
          "Negative",
          "Extremely Positive",
          "Extremely Positive",
          "Negative",
          "Negative",
          "Positive",
          "Negative",
          "Negative",
          "Neutral",
          "Negative",
          "Extremely Negative",
          "Negative",
          "Positive",
          "Extremely Positive",
          "Positive",
          "Extremely Negative",
          "Neutral",
          "Positive",
          "Extremely Positive",
          "Neutral",
          "Positive",
          "Negative",
          "Positive",
          "Negative",
          "Positive",
          "Neutral",
          "Extremely Positive",
          "Neutral",
          "Extremely Negative",
          "Positive",
          "Negative",
          "Positive",
          "Positive",
          "Extremely Negative",
          "Extremely Negative",
          "Neutral",
          "Extremely Negative",
          "Extremely Positive",
          "Positive",
          "Negative",
          "Negative",
          "Neutral",
          "Positive",
          "Positive",
          "Neutral"
         ],
         "textfont": {
          "size": 7
         },
         "type": "scatter3d",
         "x": [
          -0.7493469914350993,
          -0.21695504472498045,
          1.1327817923202579,
          -0.43591822150840037,
          -0.30475082118704155,
          0.06119990039248336,
          -0.09965536793293149,
          1.1000088779951764,
          -0.22715801495423155,
          0.24239381076568497,
          -0.028514831559451163,
          -0.07962327052992917,
          -0.6488865440469652,
          -0.29348331151787505,
          -2.756533324628007e-06,
          1.4408913977803253,
          -0.21420058878207932,
          1.1572807248134827,
          -0.2659959521863552,
          1.4497625713683417,
          -0.6522214662586011,
          -0.22969778985772807,
          -0.07850422982942938,
          -0.23634003213396026,
          -0.2541119556886589,
          -0.2356515893533115,
          -0.1785576885060865,
          -0.9071233593345307,
          1.1701810127487708,
          0.013931502995325699,
          -0.054166813606964716,
          0.03918513286726208,
          0.4351460730292999,
          -0.5183561441784345,
          1.0759664729157783,
          -0.262556111186825,
          -0.14400736117815616,
          -0.6422388185396016,
          -0.0663572912791678,
          -0.6802874933165257,
          0.4356836158477044,
          0.5577608182282582,
          0.12175903512745917,
          -0.1626234146192979,
          -0.36029023079827427,
          0.19675978379599648,
          1.1864898541338815,
          0.19303206738642076,
          -0.3754350078334037,
          1.1642684871529472,
          -0.17184160968569237,
          1.1731514825033358,
          -0.25402801288385984,
          0.021796377059225602,
          -0.0002800282762195947,
          0.08678901546941957,
          -0.23239921037639527,
          -0.5786988749651955,
          -0.5463901525482291,
          -0.049288123030227685,
          -0.506678082608569,
          -0.045867581050917726,
          -0.050497900869200515,
          -0.09658797637277133,
          -0.07063452283803773,
          -0.14668037548099214,
          -0.17704060038033803,
          -0.17859093828832626,
          -0.43338733136901475,
          -0.128580800920329,
          -0.34811598119992354,
          0.02954294502837264,
          0.013006000760142992,
          -0.10399465015343032,
          0.047231170696908305,
          -0.03329504033797479,
          0.09798536335414247,
          -0.6732395651278924,
          0.19580898659133902,
          -0.27133118465627765,
          0.5368718702625358,
          1.4024257033434069,
          -0.37112601273506146,
          -0.44914461787102855,
          -0.2595217327065704,
          0.12517262974775936,
          1.087702260572004,
          0.583950862608881,
          0.07987264989257409,
          -0.10746287336047605,
          -0.12763760729568363,
          -0.12648446071384994,
          0.03728196231007333,
          0.019148978362333563,
          1.3226343229851971,
          -0.05238224021969957,
          -0.1894324301398158,
          0.4709967071949717,
          -0.07058512308492627,
          -0.23025396971957285
         ],
         "y": [
          0.36250077213939563,
          0.42992528558334875,
          -0.15163016870807797,
          -1.2515097423606247,
          -0.2822323506460378,
          -0.7066224440136176,
          0.5561833639814683,
          -0.3732760877124392,
          0.7856726751126996,
          -0.4086273615568683,
          -0.31892917509646657,
          -0.45957813835617634,
          0.5786865960669607,
          -0.7582958729441442,
          -0.16757659691765264,
          0.1624451694417531,
          1.7460558962078547,
          -0.15904164281716773,
          0.49980663927944896,
          -0.40942744859805075,
          -0.32313880403202216,
          -0.31694112208214703,
          0.7090779806000653,
          -0.6896895751106547,
          -0.12019633495293747,
          0.45700062161862826,
          -0.4086393390943103,
          -0.4277728652870456,
          0.7039504378316789,
          -0.1800746135967021,
          -0.2040012330341852,
          -0.019922780659577904,
          0.5429814175647716,
          0.7485739032999768,
          0.7831231359042885,
          -0.6323820967579243,
          -0.6470723082804002,
          0.6337583058187927,
          0.5108070833748103,
          0.545442661337713,
          0.6173459477125292,
          1.7253541844080758,
          -0.06474674248130065,
          0.403534288007217,
          -0.5100131913159354,
          -0.17364434918916863,
          -0.19767524693664493,
          -0.585618042828652,
          -0.9916753796331973,
          0.7281637919760785,
          -0.3688777973702896,
          -0.33384462015891647,
          0.5351641337090912,
          -0.18385680755499986,
          0.14088371752434758,
          0.8332887571827045,
          -0.6893545652303985,
          -0.3349870250703827,
          0.49070425883792107,
          -0.201733263181445,
          -0.18645607700635738,
          -0.2593296194196017,
          0.352926247439434,
          0.35248788499271305,
          0.6946716176887425,
          1.5096028247147306,
          -0.373186899544706,
          -0.3650493943141919,
          0.5501134217527612,
          0.3588547382332868,
          0.5420486300546685,
          0.5153382362542557,
          -0.26271663154858244,
          -0.44467170617781826,
          -0.3881812136172936,
          -0.19851970085832413,
          0.4699381848227667,
          0.5135435491958953,
          -0.6331223358266713,
          -0.6954721275576798,
          0.6406263182715902,
          0.8608480513454043,
          -0.8764577288655797,
          0.6779655866075442,
          0.5695065322479065,
          -0.3889407846940188,
          0.7437255804190417,
          -0.39823603518794076,
          0.5560041342216385,
          0.3238143827684684,
          -0.37598615640457445,
          -0.4015332189133311,
          -0.17521564881314214,
          -0.24237121747335752,
          -0.49850480157498933,
          0.6021913136804993,
          -0.5937969638000855,
          0.5945147435314055,
          0.7025897728005558,
          -0.4635948934459638
         ],
         "z": [
          0.6029481386190333,
          0.42939410519768273,
          -0.5632502804670482,
          1.1779591923123272,
          0.06962668623401648,
          0.06962798289346411,
          0.42378689524391294,
          0.1782996123474467,
          -0.4110684094050282,
          -0.5321862063547368,
          -0.6565090164774144,
          0.09313192313667547,
          0.12023554190536803,
          0.24270061196404988,
          -0.8116201018356571,
          1.1735090933122845,
          -0.10842821463882393,
          -0.5413323102647668,
          0.46247540424930605,
          0.34606771720170876,
          -0.1546167283924762,
          0.11625171947055048,
          -0.42482724064930855,
          0.21547639884773745,
          -0.6006988825175371,
          0.4149636842420042,
          -0.2625116230770807,
          -0.08483455087605873,
          -0.2006479570855126,
          -0.7978922582672422,
          -0.7388120360449364,
          -1.5455756472446576,
          0.5776091786633819,
          -0.6473684427516401,
          -0.32183513009759085,
          0.18143817666127846,
          0.6354090029150766,
          0.006125412124762946,
          0.4915218491030118,
          0.2028049896593735,
          0.4073807398779565,
          -0.18957002221070038,
          -1.5021656783852764,
          0.48816220174826086,
          0.4738090383898496,
          -1.461908407730435,
          -0.5769979531098408,
          -0.443604570236609,
          0.6912203536276247,
          -0.29106222904856605,
          0.026452638741582706,
          0.250554003925045,
          0.3601519098434893,
          -0.8020201609293955,
          0.9350174330606185,
          -1.1679795860486795,
          0.2989538553421526,
          -0.11846294333076886,
          0.5448731383717457,
          -0.7288996591637079,
          -0.8801452910518239,
          -0.6370941453268542,
          0.43489054684750156,
          0.6076606355506995,
          -0.4329936378096639,
          0.0006427515939982856,
          0.02700702027820528,
          0.02340473961996903,
          0.4228767239321146,
          0.13654754621807583,
          0.31856678251396237,
          -0.2591558405410911,
          -0.9038000698487828,
          0.026191836661723013,
          -0.4891553203639735,
          -0.9116985666923504,
          -0.2500732190433956,
          0.2709241982704379,
          -0.3989090279379263,
          0.5673142672567679,
          0.46900756281459194,
          -1.002106014571817,
          0.6791807887260363,
          0.3796482057971938,
          0.361601281355225,
          -0.5938913131895234,
          -0.30700574077202863,
          -0.36580080582116925,
          -0.33350386797340204,
          0.21019438554025519,
          0.050423861380909166,
          -0.0851334607758825,
          -0.8643365432185167,
          -0.6909586860292765,
          0.36981711936299383,
          -0.36928047629139793,
          0.2538490008541367,
          0.48871305232495627,
          -0.48320221538959723,
          0.14612734247198214
         ]
        }
       ],
       "layout": {
        "coloraxis": {
         "colorbar": {
          "title": {
           "text": "color"
          }
         },
         "colorscale": [
          [
           0.0,
           "#0d0887"
          ],
          [
           0.1111111111111111,
           "#46039f"
          ],
          [
           0.2222222222222222,
           "#7201a8"
          ],
          [
           0.3333333333333333,
           "#9c179e"
          ],
          [
           0.4444444444444444,
           "#bd3786"
          ],
          [
           0.5555555555555556,
           "#d8576b"
          ],
          [
           0.6666666666666666,
           "#ed7953"
          ],
          [
           0.7777777777777778,
           "#fb9f3a"
          ],
          [
           0.8888888888888888,
           "#fdca26"
          ],
          [
           1.0,
           "#f0f921"
          ]
         ]
        },
        "legend": {
         "tracegroupgap": 0
        },
        "margin": {
         "t": 60
        },
        "scene": {
         "domain": {
          "x": [
           0.0,
           1.0
          ],
          "y": [
           0.0,
           1.0
          ]
         },
         "xaxis": {
          "title": {
           "text": "sepal_length"
          }
         },
         "yaxis": {
          "title": {
           "text": "sepal_width"
          }
         },
         "zaxis": {
          "title": {
           "text": "petal_width"
          }
         }
        },
        "template": {
         "data": {
          "bar": [
           {
            "error_x": {
             "color": "#2a3f5f"
            },
            "error_y": {
             "color": "#2a3f5f"
            },
            "marker": {
             "line": {
              "color": "#E5ECF6",
              "width": 0.5
             },
             "pattern": {
              "fillmode": "overlay",
              "size": 10,
              "solidity": 0.2
             }
            },
            "type": "bar"
           }
          ],
          "barpolar": [
           {
            "marker": {
             "line": {
              "color": "#E5ECF6",
              "width": 0.5
             },
             "pattern": {
              "fillmode": "overlay",
              "size": 10,
              "solidity": 0.2
             }
            },
            "type": "barpolar"
           }
          ],
          "carpet": [
           {
            "aaxis": {
             "endlinecolor": "#2a3f5f",
             "gridcolor": "white",
             "linecolor": "white",
             "minorgridcolor": "white",
             "startlinecolor": "#2a3f5f"
            },
            "baxis": {
             "endlinecolor": "#2a3f5f",
             "gridcolor": "white",
             "linecolor": "white",
             "minorgridcolor": "white",
             "startlinecolor": "#2a3f5f"
            },
            "type": "carpet"
           }
          ],
          "choropleth": [
           {
            "colorbar": {
             "outlinewidth": 0,
             "ticks": ""
            },
            "type": "choropleth"
           }
          ],
          "contour": [
           {
            "colorbar": {
             "outlinewidth": 0,
             "ticks": ""
            },
            "colorscale": [
             [
              0.0,
              "#0d0887"
             ],
             [
              0.1111111111111111,
              "#46039f"
             ],
             [
              0.2222222222222222,
              "#7201a8"
             ],
             [
              0.3333333333333333,
              "#9c179e"
             ],
             [
              0.4444444444444444,
              "#bd3786"
             ],
             [
              0.5555555555555556,
              "#d8576b"
             ],
             [
              0.6666666666666666,
              "#ed7953"
             ],
             [
              0.7777777777777778,
              "#fb9f3a"
             ],
             [
              0.8888888888888888,
              "#fdca26"
             ],
             [
              1.0,
              "#f0f921"
             ]
            ],
            "type": "contour"
           }
          ],
          "contourcarpet": [
           {
            "colorbar": {
             "outlinewidth": 0,
             "ticks": ""
            },
            "type": "contourcarpet"
           }
          ],
          "heatmap": [
           {
            "colorbar": {
             "outlinewidth": 0,
             "ticks": ""
            },
            "colorscale": [
             [
              0.0,
              "#0d0887"
             ],
             [
              0.1111111111111111,
              "#46039f"
             ],
             [
              0.2222222222222222,
              "#7201a8"
             ],
             [
              0.3333333333333333,
              "#9c179e"
             ],
             [
              0.4444444444444444,
              "#bd3786"
             ],
             [
              0.5555555555555556,
              "#d8576b"
             ],
             [
              0.6666666666666666,
              "#ed7953"
             ],
             [
              0.7777777777777778,
              "#fb9f3a"
             ],
             [
              0.8888888888888888,
              "#fdca26"
             ],
             [
              1.0,
              "#f0f921"
             ]
            ],
            "type": "heatmap"
           }
          ],
          "heatmapgl": [
           {
            "colorbar": {
             "outlinewidth": 0,
             "ticks": ""
            },
            "colorscale": [
             [
              0.0,
              "#0d0887"
             ],
             [
              0.1111111111111111,
              "#46039f"
             ],
             [
              0.2222222222222222,
              "#7201a8"
             ],
             [
              0.3333333333333333,
              "#9c179e"
             ],
             [
              0.4444444444444444,
              "#bd3786"
             ],
             [
              0.5555555555555556,
              "#d8576b"
             ],
             [
              0.6666666666666666,
              "#ed7953"
             ],
             [
              0.7777777777777778,
              "#fb9f3a"
             ],
             [
              0.8888888888888888,
              "#fdca26"
             ],
             [
              1.0,
              "#f0f921"
             ]
            ],
            "type": "heatmapgl"
           }
          ],
          "histogram": [
           {
            "marker": {
             "pattern": {
              "fillmode": "overlay",
              "size": 10,
              "solidity": 0.2
             }
            },
            "type": "histogram"
           }
          ],
          "histogram2d": [
           {
            "colorbar": {
             "outlinewidth": 0,
             "ticks": ""
            },
            "colorscale": [
             [
              0.0,
              "#0d0887"
             ],
             [
              0.1111111111111111,
              "#46039f"
             ],
             [
              0.2222222222222222,
              "#7201a8"
             ],
             [
              0.3333333333333333,
              "#9c179e"
             ],
             [
              0.4444444444444444,
              "#bd3786"
             ],
             [
              0.5555555555555556,
              "#d8576b"
             ],
             [
              0.6666666666666666,
              "#ed7953"
             ],
             [
              0.7777777777777778,
              "#fb9f3a"
             ],
             [
              0.8888888888888888,
              "#fdca26"
             ],
             [
              1.0,
              "#f0f921"
             ]
            ],
            "type": "histogram2d"
           }
          ],
          "histogram2dcontour": [
           {
            "colorbar": {
             "outlinewidth": 0,
             "ticks": ""
            },
            "colorscale": [
             [
              0.0,
              "#0d0887"
             ],
             [
              0.1111111111111111,
              "#46039f"
             ],
             [
              0.2222222222222222,
              "#7201a8"
             ],
             [
              0.3333333333333333,
              "#9c179e"
             ],
             [
              0.4444444444444444,
              "#bd3786"
             ],
             [
              0.5555555555555556,
              "#d8576b"
             ],
             [
              0.6666666666666666,
              "#ed7953"
             ],
             [
              0.7777777777777778,
              "#fb9f3a"
             ],
             [
              0.8888888888888888,
              "#fdca26"
             ],
             [
              1.0,
              "#f0f921"
             ]
            ],
            "type": "histogram2dcontour"
           }
          ],
          "mesh3d": [
           {
            "colorbar": {
             "outlinewidth": 0,
             "ticks": ""
            },
            "type": "mesh3d"
           }
          ],
          "parcoords": [
           {
            "line": {
             "colorbar": {
              "outlinewidth": 0,
              "ticks": ""
             }
            },
            "type": "parcoords"
           }
          ],
          "pie": [
           {
            "automargin": true,
            "type": "pie"
           }
          ],
          "scatter": [
           {
            "fillpattern": {
             "fillmode": "overlay",
             "size": 10,
             "solidity": 0.2
            },
            "type": "scatter"
           }
          ],
          "scatter3d": [
           {
            "line": {
             "colorbar": {
              "outlinewidth": 0,
              "ticks": ""
             }
            },
            "marker": {
             "colorbar": {
              "outlinewidth": 0,
              "ticks": ""
             }
            },
            "type": "scatter3d"
           }
          ],
          "scattercarpet": [
           {
            "marker": {
             "colorbar": {
              "outlinewidth": 0,
              "ticks": ""
             }
            },
            "type": "scattercarpet"
           }
          ],
          "scattergeo": [
           {
            "marker": {
             "colorbar": {
              "outlinewidth": 0,
              "ticks": ""
             }
            },
            "type": "scattergeo"
           }
          ],
          "scattergl": [
           {
            "marker": {
             "colorbar": {
              "outlinewidth": 0,
              "ticks": ""
             }
            },
            "type": "scattergl"
           }
          ],
          "scattermapbox": [
           {
            "marker": {
             "colorbar": {
              "outlinewidth": 0,
              "ticks": ""
             }
            },
            "type": "scattermapbox"
           }
          ],
          "scatterpolar": [
           {
            "marker": {
             "colorbar": {
              "outlinewidth": 0,
              "ticks": ""
             }
            },
            "type": "scatterpolar"
           }
          ],
          "scatterpolargl": [
           {
            "marker": {
             "colorbar": {
              "outlinewidth": 0,
              "ticks": ""
             }
            },
            "type": "scatterpolargl"
           }
          ],
          "scatterternary": [
           {
            "marker": {
             "colorbar": {
              "outlinewidth": 0,
              "ticks": ""
             }
            },
            "type": "scatterternary"
           }
          ],
          "surface": [
           {
            "colorbar": {
             "outlinewidth": 0,
             "ticks": ""
            },
            "colorscale": [
             [
              0.0,
              "#0d0887"
             ],
             [
              0.1111111111111111,
              "#46039f"
             ],
             [
              0.2222222222222222,
              "#7201a8"
             ],
             [
              0.3333333333333333,
              "#9c179e"
             ],
             [
              0.4444444444444444,
              "#bd3786"
             ],
             [
              0.5555555555555556,
              "#d8576b"
             ],
             [
              0.6666666666666666,
              "#ed7953"
             ],
             [
              0.7777777777777778,
              "#fb9f3a"
             ],
             [
              0.8888888888888888,
              "#fdca26"
             ],
             [
              1.0,
              "#f0f921"
             ]
            ],
            "type": "surface"
           }
          ],
          "table": [
           {
            "cells": {
             "fill": {
              "color": "#EBF0F8"
             },
             "line": {
              "color": "white"
             }
            },
            "header": {
             "fill": {
              "color": "#C8D4E3"
             },
             "line": {
              "color": "white"
             }
            },
            "type": "table"
           }
          ]
         },
         "layout": {
          "annotationdefaults": {
           "arrowcolor": "#2a3f5f",
           "arrowhead": 0,
           "arrowwidth": 1
          },
          "autotypenumbers": "strict",
          "coloraxis": {
           "colorbar": {
            "outlinewidth": 0,
            "ticks": ""
           }
          },
          "colorscale": {
           "diverging": [
            [
             0,
             "#8e0152"
            ],
            [
             0.1,
             "#c51b7d"
            ],
            [
             0.2,
             "#de77ae"
            ],
            [
             0.3,
             "#f1b6da"
            ],
            [
             0.4,
             "#fde0ef"
            ],
            [
             0.5,
             "#f7f7f7"
            ],
            [
             0.6,
             "#e6f5d0"
            ],
            [
             0.7,
             "#b8e186"
            ],
            [
             0.8,
             "#7fbc41"
            ],
            [
             0.9,
             "#4d9221"
            ],
            [
             1,
             "#276419"
            ]
           ],
           "sequential": [
            [
             0.0,
             "#0d0887"
            ],
            [
             0.1111111111111111,
             "#46039f"
            ],
            [
             0.2222222222222222,
             "#7201a8"
            ],
            [
             0.3333333333333333,
             "#9c179e"
            ],
            [
             0.4444444444444444,
             "#bd3786"
            ],
            [
             0.5555555555555556,
             "#d8576b"
            ],
            [
             0.6666666666666666,
             "#ed7953"
            ],
            [
             0.7777777777777778,
             "#fb9f3a"
            ],
            [
             0.8888888888888888,
             "#fdca26"
            ],
            [
             1.0,
             "#f0f921"
            ]
           ],
           "sequentialminus": [
            [
             0.0,
             "#0d0887"
            ],
            [
             0.1111111111111111,
             "#46039f"
            ],
            [
             0.2222222222222222,
             "#7201a8"
            ],
            [
             0.3333333333333333,
             "#9c179e"
            ],
            [
             0.4444444444444444,
             "#bd3786"
            ],
            [
             0.5555555555555556,
             "#d8576b"
            ],
            [
             0.6666666666666666,
             "#ed7953"
            ],
            [
             0.7777777777777778,
             "#fb9f3a"
            ],
            [
             0.8888888888888888,
             "#fdca26"
            ],
            [
             1.0,
             "#f0f921"
            ]
           ]
          },
          "colorway": [
           "#636efa",
           "#EF553B",
           "#00cc96",
           "#ab63fa",
           "#FFA15A",
           "#19d3f3",
           "#FF6692",
           "#B6E880",
           "#FF97FF",
           "#FECB52"
          ],
          "font": {
           "color": "#2a3f5f"
          },
          "geo": {
           "bgcolor": "white",
           "lakecolor": "white",
           "landcolor": "#E5ECF6",
           "showlakes": true,
           "showland": true,
           "subunitcolor": "white"
          },
          "hoverlabel": {
           "align": "left"
          },
          "hovermode": "closest",
          "mapbox": {
           "style": "light"
          },
          "paper_bgcolor": "white",
          "plot_bgcolor": "#E5ECF6",
          "polar": {
           "angularaxis": {
            "gridcolor": "white",
            "linecolor": "white",
            "ticks": ""
           },
           "bgcolor": "#E5ECF6",
           "radialaxis": {
            "gridcolor": "white",
            "linecolor": "white",
            "ticks": ""
           }
          },
          "scene": {
           "xaxis": {
            "backgroundcolor": "#E5ECF6",
            "gridcolor": "white",
            "gridwidth": 2,
            "linecolor": "white",
            "showbackground": true,
            "ticks": "",
            "zerolinecolor": "white"
           },
           "yaxis": {
            "backgroundcolor": "#E5ECF6",
            "gridcolor": "white",
            "gridwidth": 2,
            "linecolor": "white",
            "showbackground": true,
            "ticks": "",
            "zerolinecolor": "white"
           },
           "zaxis": {
            "backgroundcolor": "#E5ECF6",
            "gridcolor": "white",
            "gridwidth": 2,
            "linecolor": "white",
            "showbackground": true,
            "ticks": "",
            "zerolinecolor": "white"
           }
          },
          "shapedefaults": {
           "line": {
            "color": "#2a3f5f"
           }
          },
          "ternary": {
           "aaxis": {
            "gridcolor": "white",
            "linecolor": "white",
            "ticks": ""
           },
           "baxis": {
            "gridcolor": "white",
            "linecolor": "white",
            "ticks": ""
           },
           "bgcolor": "#E5ECF6",
           "caxis": {
            "gridcolor": "white",
            "linecolor": "white",
            "ticks": ""
           }
          },
          "title": {
           "x": 0.05
          },
          "xaxis": {
           "automargin": true,
           "gridcolor": "white",
           "linecolor": "white",
           "ticks": "",
           "title": {
            "standoff": 15
           },
           "zerolinecolor": "white",
           "zerolinewidth": 2
          },
          "yaxis": {
           "automargin": true,
           "gridcolor": "white",
           "linecolor": "white",
           "ticks": "",
           "title": {
            "standoff": 15
           },
           "zerolinecolor": "white",
           "zerolinewidth": 2
          }
         }
        }
       }
      },
      "text/html": [
       "<div>                            <div id=\"7ea6431a-ab2e-4313-868b-7dd39861a971\" class=\"plotly-graph-div\" style=\"height:525px; width:100%;\"></div>            <script type=\"text/javascript\">                require([\"plotly\"], function(Plotly) {                    window.PLOTLYENV=window.PLOTLYENV || {};                                    if (document.getElementById(\"7ea6431a-ab2e-4313-868b-7dd39861a971\")) {                    Plotly.newPlot(                        \"7ea6431a-ab2e-4313-868b-7dd39861a971\",                        [{\"hovertemplate\":\"sepal_length=%{x}<br>sepal_width=%{y}<br>petal_width=%{z}<br>text=%{text}<br>color=%{marker.color}<extra></extra>\",\"legendgroup\":\"\",\"marker\":{\"color\":[120,0,0,120,120,0,120,0,120,120,120,60,60,60,60,120,60,120,120,120,60,0,120,0,120,0,0,0,120,60,0,60,120,60,60,60,0,60,0,60,60,120,0,0,0,0,0,120,60,60,0,120,120,120,0,0,120,120,0,0,120,0,0,60,0,0,0,120,120,120,0,60,120,120,60,120,0,120,0,120,60,120,60,0,120,0,120,120,0,0,60,0,120,120,0,0,60,120,120,60],\"coloraxis\":\"coloraxis\",\"symbol\":\"circle\"},\"mode\":\"markers+text\",\"name\":\"\",\"scene\":\"scene\",\"showlegend\":false,\"text\":[\"Positive\",\"Negative\",\"Negative\",\"Positive\",\"Positive\",\"Extremely Negative\",\"Positive\",\"Negative\",\"Positive\",\"Positive\",\"Extremely Positive\",\"Neutral\",\"Neutral\",\"Neutral\",\"Neutral\",\"Extremely Positive\",\"Neutral\",\"Positive\",\"Positive\",\"Positive\",\"Neutral\",\"Negative\",\"Extremely Positive\",\"Negative\",\"Extremely Positive\",\"Extremely Negative\",\"Negative\",\"Negative\",\"Positive\",\"Neutral\",\"Negative\",\"Neutral\",\"Extremely Positive\",\"Neutral\",\"Neutral\",\"Neutral\",\"Negative\",\"Neutral\",\"Negative\",\"Neutral\",\"Neutral\",\"Extremely Positive\",\"Negative\",\"Extremely Negative\",\"Negative\",\"Negative\",\"Negative\",\"Positive\",\"Neutral\",\"Neutral\",\"Extremely Negative\",\"Positive\",\"Positive\",\"Extremely Positive\",\"Extremely Negative\",\"Negative\",\"Extremely Positive\",\"Extremely Positive\",\"Negative\",\"Negative\",\"Positive\",\"Negative\",\"Negative\",\"Neutral\",\"Negative\",\"Extremely Negative\",\"Negative\",\"Positive\",\"Extremely Positive\",\"Positive\",\"Extremely Negative\",\"Neutral\",\"Positive\",\"Extremely Positive\",\"Neutral\",\"Positive\",\"Negative\",\"Positive\",\"Negative\",\"Positive\",\"Neutral\",\"Extremely Positive\",\"Neutral\",\"Extremely Negative\",\"Positive\",\"Negative\",\"Positive\",\"Positive\",\"Extremely Negative\",\"Extremely Negative\",\"Neutral\",\"Extremely Negative\",\"Extremely Positive\",\"Positive\",\"Negative\",\"Negative\",\"Neutral\",\"Positive\",\"Positive\",\"Neutral\"],\"x\":[-0.7493469914350993,-0.21695504472498045,1.1327817923202579,-0.43591822150840037,-0.30475082118704155,0.06119990039248336,-0.09965536793293149,1.1000088779951764,-0.22715801495423155,0.24239381076568497,-0.028514831559451163,-0.07962327052992917,-0.6488865440469652,-0.29348331151787505,-2.756533324628007e-6,1.4408913977803253,-0.21420058878207932,1.1572807248134827,-0.2659959521863552,1.4497625713683417,-0.6522214662586011,-0.22969778985772807,-0.07850422982942938,-0.23634003213396026,-0.2541119556886589,-0.2356515893533115,-0.1785576885060865,-0.9071233593345307,1.1701810127487708,0.013931502995325699,-0.054166813606964716,0.03918513286726208,0.4351460730292999,-0.5183561441784345,1.0759664729157783,-0.262556111186825,-0.14400736117815616,-0.6422388185396016,-0.0663572912791678,-0.6802874933165257,0.4356836158477044,0.5577608182282582,0.12175903512745917,-0.1626234146192979,-0.36029023079827427,0.19675978379599648,1.1864898541338815,0.19303206738642076,-0.3754350078334037,1.1642684871529472,-0.17184160968569237,1.1731514825033358,-0.25402801288385984,0.021796377059225602,-0.0002800282762195947,0.08678901546941957,-0.23239921037639527,-0.5786988749651955,-0.5463901525482291,-0.049288123030227685,-0.506678082608569,-0.045867581050917726,-0.050497900869200515,-0.09658797637277133,-0.07063452283803773,-0.14668037548099214,-0.17704060038033803,-0.17859093828832626,-0.43338733136901475,-0.128580800920329,-0.34811598119992354,0.02954294502837264,0.013006000760142992,-0.10399465015343032,0.047231170696908305,-0.03329504033797479,0.09798536335414247,-0.6732395651278924,0.19580898659133902,-0.27133118465627765,0.5368718702625358,1.4024257033434069,-0.37112601273506146,-0.44914461787102855,-0.2595217327065704,0.12517262974775936,1.087702260572004,0.583950862608881,0.07987264989257409,-0.10746287336047605,-0.12763760729568363,-0.12648446071384994,0.03728196231007333,0.019148978362333563,1.3226343229851971,-0.05238224021969957,-0.1894324301398158,0.4709967071949717,-0.07058512308492627,-0.23025396971957285],\"y\":[0.36250077213939563,0.42992528558334875,-0.15163016870807797,-1.2515097423606247,-0.2822323506460378,-0.7066224440136176,0.5561833639814683,-0.3732760877124392,0.7856726751126996,-0.4086273615568683,-0.31892917509646657,-0.45957813835617634,0.5786865960669607,-0.7582958729441442,-0.16757659691765264,0.1624451694417531,1.7460558962078547,-0.15904164281716773,0.49980663927944896,-0.40942744859805075,-0.32313880403202216,-0.31694112208214703,0.7090779806000653,-0.6896895751106547,-0.12019633495293747,0.45700062161862826,-0.4086393390943103,-0.4277728652870456,0.7039504378316789,-0.1800746135967021,-0.2040012330341852,-0.019922780659577904,0.5429814175647716,0.7485739032999768,0.7831231359042885,-0.6323820967579243,-0.6470723082804002,0.6337583058187927,0.5108070833748103,0.545442661337713,0.6173459477125292,1.7253541844080758,-0.06474674248130065,0.403534288007217,-0.5100131913159354,-0.17364434918916863,-0.19767524693664493,-0.585618042828652,-0.9916753796331973,0.7281637919760785,-0.3688777973702896,-0.33384462015891647,0.5351641337090912,-0.18385680755499986,0.14088371752434758,0.8332887571827045,-0.6893545652303985,-0.3349870250703827,0.49070425883792107,-0.201733263181445,-0.18645607700635738,-0.2593296194196017,0.352926247439434,0.35248788499271305,0.6946716176887425,1.5096028247147306,-0.373186899544706,-0.3650493943141919,0.5501134217527612,0.3588547382332868,0.5420486300546685,0.5153382362542557,-0.26271663154858244,-0.44467170617781826,-0.3881812136172936,-0.19851970085832413,0.4699381848227667,0.5135435491958953,-0.6331223358266713,-0.6954721275576798,0.6406263182715902,0.8608480513454043,-0.8764577288655797,0.6779655866075442,0.5695065322479065,-0.3889407846940188,0.7437255804190417,-0.39823603518794076,0.5560041342216385,0.3238143827684684,-0.37598615640457445,-0.4015332189133311,-0.17521564881314214,-0.24237121747335752,-0.49850480157498933,0.6021913136804993,-0.5937969638000855,0.5945147435314055,0.7025897728005558,-0.4635948934459638],\"z\":[0.6029481386190333,0.42939410519768273,-0.5632502804670482,1.1779591923123272,0.06962668623401648,0.06962798289346411,0.42378689524391294,0.1782996123474467,-0.4110684094050282,-0.5321862063547368,-0.6565090164774144,0.09313192313667547,0.12023554190536803,0.24270061196404988,-0.8116201018356571,1.1735090933122845,-0.10842821463882393,-0.5413323102647668,0.46247540424930605,0.34606771720170876,-0.1546167283924762,0.11625171947055048,-0.42482724064930855,0.21547639884773745,-0.6006988825175371,0.4149636842420042,-0.2625116230770807,-0.08483455087605873,-0.2006479570855126,-0.7978922582672422,-0.7388120360449364,-1.5455756472446576,0.5776091786633819,-0.6473684427516401,-0.32183513009759085,0.18143817666127846,0.6354090029150766,0.006125412124762946,0.4915218491030118,0.2028049896593735,0.4073807398779565,-0.18957002221070038,-1.5021656783852764,0.48816220174826086,0.4738090383898496,-1.461908407730435,-0.5769979531098408,-0.443604570236609,0.6912203536276247,-0.29106222904856605,0.026452638741582706,0.250554003925045,0.3601519098434893,-0.8020201609293955,0.9350174330606185,-1.1679795860486795,0.2989538553421526,-0.11846294333076886,0.5448731383717457,-0.7288996591637079,-0.8801452910518239,-0.6370941453268542,0.43489054684750156,0.6076606355506995,-0.4329936378096639,0.0006427515939982856,0.02700702027820528,0.02340473961996903,0.4228767239321146,0.13654754621807583,0.31856678251396237,-0.2591558405410911,-0.9038000698487828,0.026191836661723013,-0.4891553203639735,-0.9116985666923504,-0.2500732190433956,0.2709241982704379,-0.3989090279379263,0.5673142672567679,0.46900756281459194,-1.002106014571817,0.6791807887260363,0.3796482057971938,0.361601281355225,-0.5938913131895234,-0.30700574077202863,-0.36580080582116925,-0.33350386797340204,0.21019438554025519,0.050423861380909166,-0.0851334607758825,-0.8643365432185167,-0.6909586860292765,0.36981711936299383,-0.36928047629139793,0.2538490008541367,0.48871305232495627,-0.48320221538959723,0.14612734247198214],\"type\":\"scatter3d\",\"textfont\":{\"size\":7}}],                        {\"template\":{\"data\":{\"histogram2dcontour\":[{\"type\":\"histogram2dcontour\",\"colorbar\":{\"outlinewidth\":0,\"ticks\":\"\"},\"colorscale\":[[0.0,\"#0d0887\"],[0.1111111111111111,\"#46039f\"],[0.2222222222222222,\"#7201a8\"],[0.3333333333333333,\"#9c179e\"],[0.4444444444444444,\"#bd3786\"],[0.5555555555555556,\"#d8576b\"],[0.6666666666666666,\"#ed7953\"],[0.7777777777777778,\"#fb9f3a\"],[0.8888888888888888,\"#fdca26\"],[1.0,\"#f0f921\"]]}],\"choropleth\":[{\"type\":\"choropleth\",\"colorbar\":{\"outlinewidth\":0,\"ticks\":\"\"}}],\"histogram2d\":[{\"type\":\"histogram2d\",\"colorbar\":{\"outlinewidth\":0,\"ticks\":\"\"},\"colorscale\":[[0.0,\"#0d0887\"],[0.1111111111111111,\"#46039f\"],[0.2222222222222222,\"#7201a8\"],[0.3333333333333333,\"#9c179e\"],[0.4444444444444444,\"#bd3786\"],[0.5555555555555556,\"#d8576b\"],[0.6666666666666666,\"#ed7953\"],[0.7777777777777778,\"#fb9f3a\"],[0.8888888888888888,\"#fdca26\"],[1.0,\"#f0f921\"]]}],\"heatmap\":[{\"type\":\"heatmap\",\"colorbar\":{\"outlinewidth\":0,\"ticks\":\"\"},\"colorscale\":[[0.0,\"#0d0887\"],[0.1111111111111111,\"#46039f\"],[0.2222222222222222,\"#7201a8\"],[0.3333333333333333,\"#9c179e\"],[0.4444444444444444,\"#bd3786\"],[0.5555555555555556,\"#d8576b\"],[0.6666666666666666,\"#ed7953\"],[0.7777777777777778,\"#fb9f3a\"],[0.8888888888888888,\"#fdca26\"],[1.0,\"#f0f921\"]]}],\"heatmapgl\":[{\"type\":\"heatmapgl\",\"colorbar\":{\"outlinewidth\":0,\"ticks\":\"\"},\"colorscale\":[[0.0,\"#0d0887\"],[0.1111111111111111,\"#46039f\"],[0.2222222222222222,\"#7201a8\"],[0.3333333333333333,\"#9c179e\"],[0.4444444444444444,\"#bd3786\"],[0.5555555555555556,\"#d8576b\"],[0.6666666666666666,\"#ed7953\"],[0.7777777777777778,\"#fb9f3a\"],[0.8888888888888888,\"#fdca26\"],[1.0,\"#f0f921\"]]}],\"contourcarpet\":[{\"type\":\"contourcarpet\",\"colorbar\":{\"outlinewidth\":0,\"ticks\":\"\"}}],\"contour\":[{\"type\":\"contour\",\"colorbar\":{\"outlinewidth\":0,\"ticks\":\"\"},\"colorscale\":[[0.0,\"#0d0887\"],[0.1111111111111111,\"#46039f\"],[0.2222222222222222,\"#7201a8\"],[0.3333333333333333,\"#9c179e\"],[0.4444444444444444,\"#bd3786\"],[0.5555555555555556,\"#d8576b\"],[0.6666666666666666,\"#ed7953\"],[0.7777777777777778,\"#fb9f3a\"],[0.8888888888888888,\"#fdca26\"],[1.0,\"#f0f921\"]]}],\"surface\":[{\"type\":\"surface\",\"colorbar\":{\"outlinewidth\":0,\"ticks\":\"\"},\"colorscale\":[[0.0,\"#0d0887\"],[0.1111111111111111,\"#46039f\"],[0.2222222222222222,\"#7201a8\"],[0.3333333333333333,\"#9c179e\"],[0.4444444444444444,\"#bd3786\"],[0.5555555555555556,\"#d8576b\"],[0.6666666666666666,\"#ed7953\"],[0.7777777777777778,\"#fb9f3a\"],[0.8888888888888888,\"#fdca26\"],[1.0,\"#f0f921\"]]}],\"mesh3d\":[{\"type\":\"mesh3d\",\"colorbar\":{\"outlinewidth\":0,\"ticks\":\"\"}}],\"scatter\":[{\"fillpattern\":{\"fillmode\":\"overlay\",\"size\":10,\"solidity\":0.2},\"type\":\"scatter\"}],\"parcoords\":[{\"type\":\"parcoords\",\"line\":{\"colorbar\":{\"outlinewidth\":0,\"ticks\":\"\"}}}],\"scatterpolargl\":[{\"type\":\"scatterpolargl\",\"marker\":{\"colorbar\":{\"outlinewidth\":0,\"ticks\":\"\"}}}],\"bar\":[{\"error_x\":{\"color\":\"#2a3f5f\"},\"error_y\":{\"color\":\"#2a3f5f\"},\"marker\":{\"line\":{\"color\":\"#E5ECF6\",\"width\":0.5},\"pattern\":{\"fillmode\":\"overlay\",\"size\":10,\"solidity\":0.2}},\"type\":\"bar\"}],\"scattergeo\":[{\"type\":\"scattergeo\",\"marker\":{\"colorbar\":{\"outlinewidth\":0,\"ticks\":\"\"}}}],\"scatterpolar\":[{\"type\":\"scatterpolar\",\"marker\":{\"colorbar\":{\"outlinewidth\":0,\"ticks\":\"\"}}}],\"histogram\":[{\"marker\":{\"pattern\":{\"fillmode\":\"overlay\",\"size\":10,\"solidity\":0.2}},\"type\":\"histogram\"}],\"scattergl\":[{\"type\":\"scattergl\",\"marker\":{\"colorbar\":{\"outlinewidth\":0,\"ticks\":\"\"}}}],\"scatter3d\":[{\"type\":\"scatter3d\",\"line\":{\"colorbar\":{\"outlinewidth\":0,\"ticks\":\"\"}},\"marker\":{\"colorbar\":{\"outlinewidth\":0,\"ticks\":\"\"}}}],\"scattermapbox\":[{\"type\":\"scattermapbox\",\"marker\":{\"colorbar\":{\"outlinewidth\":0,\"ticks\":\"\"}}}],\"scatterternary\":[{\"type\":\"scatterternary\",\"marker\":{\"colorbar\":{\"outlinewidth\":0,\"ticks\":\"\"}}}],\"scattercarpet\":[{\"type\":\"scattercarpet\",\"marker\":{\"colorbar\":{\"outlinewidth\":0,\"ticks\":\"\"}}}],\"carpet\":[{\"aaxis\":{\"endlinecolor\":\"#2a3f5f\",\"gridcolor\":\"white\",\"linecolor\":\"white\",\"minorgridcolor\":\"white\",\"startlinecolor\":\"#2a3f5f\"},\"baxis\":{\"endlinecolor\":\"#2a3f5f\",\"gridcolor\":\"white\",\"linecolor\":\"white\",\"minorgridcolor\":\"white\",\"startlinecolor\":\"#2a3f5f\"},\"type\":\"carpet\"}],\"table\":[{\"cells\":{\"fill\":{\"color\":\"#EBF0F8\"},\"line\":{\"color\":\"white\"}},\"header\":{\"fill\":{\"color\":\"#C8D4E3\"},\"line\":{\"color\":\"white\"}},\"type\":\"table\"}],\"barpolar\":[{\"marker\":{\"line\":{\"color\":\"#E5ECF6\",\"width\":0.5},\"pattern\":{\"fillmode\":\"overlay\",\"size\":10,\"solidity\":0.2}},\"type\":\"barpolar\"}],\"pie\":[{\"automargin\":true,\"type\":\"pie\"}]},\"layout\":{\"autotypenumbers\":\"strict\",\"colorway\":[\"#636efa\",\"#EF553B\",\"#00cc96\",\"#ab63fa\",\"#FFA15A\",\"#19d3f3\",\"#FF6692\",\"#B6E880\",\"#FF97FF\",\"#FECB52\"],\"font\":{\"color\":\"#2a3f5f\"},\"hovermode\":\"closest\",\"hoverlabel\":{\"align\":\"left\"},\"paper_bgcolor\":\"white\",\"plot_bgcolor\":\"#E5ECF6\",\"polar\":{\"bgcolor\":\"#E5ECF6\",\"angularaxis\":{\"gridcolor\":\"white\",\"linecolor\":\"white\",\"ticks\":\"\"},\"radialaxis\":{\"gridcolor\":\"white\",\"linecolor\":\"white\",\"ticks\":\"\"}},\"ternary\":{\"bgcolor\":\"#E5ECF6\",\"aaxis\":{\"gridcolor\":\"white\",\"linecolor\":\"white\",\"ticks\":\"\"},\"baxis\":{\"gridcolor\":\"white\",\"linecolor\":\"white\",\"ticks\":\"\"},\"caxis\":{\"gridcolor\":\"white\",\"linecolor\":\"white\",\"ticks\":\"\"}},\"coloraxis\":{\"colorbar\":{\"outlinewidth\":0,\"ticks\":\"\"}},\"colorscale\":{\"sequential\":[[0.0,\"#0d0887\"],[0.1111111111111111,\"#46039f\"],[0.2222222222222222,\"#7201a8\"],[0.3333333333333333,\"#9c179e\"],[0.4444444444444444,\"#bd3786\"],[0.5555555555555556,\"#d8576b\"],[0.6666666666666666,\"#ed7953\"],[0.7777777777777778,\"#fb9f3a\"],[0.8888888888888888,\"#fdca26\"],[1.0,\"#f0f921\"]],\"sequentialminus\":[[0.0,\"#0d0887\"],[0.1111111111111111,\"#46039f\"],[0.2222222222222222,\"#7201a8\"],[0.3333333333333333,\"#9c179e\"],[0.4444444444444444,\"#bd3786\"],[0.5555555555555556,\"#d8576b\"],[0.6666666666666666,\"#ed7953\"],[0.7777777777777778,\"#fb9f3a\"],[0.8888888888888888,\"#fdca26\"],[1.0,\"#f0f921\"]],\"diverging\":[[0,\"#8e0152\"],[0.1,\"#c51b7d\"],[0.2,\"#de77ae\"],[0.3,\"#f1b6da\"],[0.4,\"#fde0ef\"],[0.5,\"#f7f7f7\"],[0.6,\"#e6f5d0\"],[0.7,\"#b8e186\"],[0.8,\"#7fbc41\"],[0.9,\"#4d9221\"],[1,\"#276419\"]]},\"xaxis\":{\"gridcolor\":\"white\",\"linecolor\":\"white\",\"ticks\":\"\",\"title\":{\"standoff\":15},\"zerolinecolor\":\"white\",\"automargin\":true,\"zerolinewidth\":2},\"yaxis\":{\"gridcolor\":\"white\",\"linecolor\":\"white\",\"ticks\":\"\",\"title\":{\"standoff\":15},\"zerolinecolor\":\"white\",\"automargin\":true,\"zerolinewidth\":2},\"scene\":{\"xaxis\":{\"backgroundcolor\":\"#E5ECF6\",\"gridcolor\":\"white\",\"linecolor\":\"white\",\"showbackground\":true,\"ticks\":\"\",\"zerolinecolor\":\"white\",\"gridwidth\":2},\"yaxis\":{\"backgroundcolor\":\"#E5ECF6\",\"gridcolor\":\"white\",\"linecolor\":\"white\",\"showbackground\":true,\"ticks\":\"\",\"zerolinecolor\":\"white\",\"gridwidth\":2},\"zaxis\":{\"backgroundcolor\":\"#E5ECF6\",\"gridcolor\":\"white\",\"linecolor\":\"white\",\"showbackground\":true,\"ticks\":\"\",\"zerolinecolor\":\"white\",\"gridwidth\":2}},\"shapedefaults\":{\"line\":{\"color\":\"#2a3f5f\"}},\"annotationdefaults\":{\"arrowcolor\":\"#2a3f5f\",\"arrowhead\":0,\"arrowwidth\":1},\"geo\":{\"bgcolor\":\"white\",\"landcolor\":\"#E5ECF6\",\"subunitcolor\":\"white\",\"showland\":true,\"showlakes\":true,\"lakecolor\":\"white\"},\"title\":{\"x\":0.05},\"mapbox\":{\"style\":\"light\"}}},\"scene\":{\"domain\":{\"x\":[0.0,1.0],\"y\":[0.0,1.0]},\"xaxis\":{\"title\":{\"text\":\"sepal_length\"}},\"yaxis\":{\"title\":{\"text\":\"sepal_width\"}},\"zaxis\":{\"title\":{\"text\":\"petal_width\"}}},\"coloraxis\":{\"colorbar\":{\"title\":{\"text\":\"color\"}},\"colorscale\":[[0.0,\"#0d0887\"],[0.1111111111111111,\"#46039f\"],[0.2222222222222222,\"#7201a8\"],[0.3333333333333333,\"#9c179e\"],[0.4444444444444444,\"#bd3786\"],[0.5555555555555556,\"#d8576b\"],[0.6666666666666666,\"#ed7953\"],[0.7777777777777778,\"#fb9f3a\"],[0.8888888888888888,\"#fdca26\"],[1.0,\"#f0f921\"]]},\"legend\":{\"tracegroupgap\":0},\"margin\":{\"t\":60}},                        {\"responsive\": true}                    ).then(function(){\n",
       "                            \n",
       "var gd = document.getElementById('7ea6431a-ab2e-4313-868b-7dd39861a971');\n",
       "var x = new MutationObserver(function (mutations, observer) {{\n",
       "        var display = window.getComputedStyle(gd).display;\n",
       "        if (!display || display === 'none') {{\n",
       "            console.log([gd, 'removed!']);\n",
       "            Plotly.purge(gd);\n",
       "            observer.disconnect();\n",
       "        }}\n",
       "}});\n",
       "\n",
       "// Listen for the removal of the full notebook cells\n",
       "var notebookContainer = gd.closest('#notebook-container');\n",
       "if (notebookContainer) {{\n",
       "    x.observe(notebookContainer, {childList: true});\n",
       "}}\n",
       "\n",
       "// Listen for the clearing of the current output cell\n",
       "var outputEl = gd.closest('.output');\n",
       "if (outputEl) {{\n",
       "    x.observe(outputEl, {childList: true});\n",
       "}}\n",
       "\n",
       "                        })                };                });            </script>        </div>"
      ]
     },
     "metadata": {},
     "output_type": "display_data"
    }
   ],
   "source": [
    "pca_pred=pca.transform(x_count[:100].toarray())\n",
    "import plotly.express as px\n",
    "df = pd.DataFrame({'sepal_length':pca_pred[:,0],'sepal_width':pca_pred[:,1],'petal_width':pca_pred[:,2],'color':data.iloc[:100,1]*60,'text':data.iloc[:100,2]})\n",
    "fig = px.scatter_3d(df, x='sepal_length', y='sepal_width', z='petal_width',\n",
    "             color='color',text='text')\n",
    "fig.update_traces(textfont=dict(\n",
    "    size=7\n",
    "))\n",
    "fig.show()"
   ]
  },
  {
   "cell_type": "markdown",
   "id": "07cfdfc9",
   "metadata": {
    "papermill": {
     "duration": 0.024956,
     "end_time": "2023-06-21T05:20:25.052069",
     "exception": false,
     "start_time": "2023-06-21T05:20:25.027113",
     "status": "completed"
    },
    "tags": []
   },
   "source": [
    "# Try LogisticRegression"
   ]
  },
  {
   "cell_type": "code",
   "execution_count": 27,
   "id": "12143e9b",
   "metadata": {
    "execution": {
     "iopub.execute_input": "2023-06-21T05:20:25.106645Z",
     "iopub.status.busy": "2023-06-21T05:20:25.105556Z",
     "iopub.status.idle": "2023-06-21T05:20:38.625959Z",
     "shell.execute_reply": "2023-06-21T05:20:38.624801Z"
    },
    "papermill": {
     "duration": 13.549747,
     "end_time": "2023-06-21T05:20:38.628295",
     "exception": false,
     "start_time": "2023-06-21T05:20:25.078548",
     "status": "completed"
    },
    "tags": []
   },
   "outputs": [
    {
     "name": "stdout",
     "output_type": "stream",
     "text": [
      "accuracy is  0.7989144941720794\n",
      "              precision    recall  f1-score   support\n",
      "\n",
      "           0       0.82      0.79      0.81      4310\n",
      "           1       0.70      0.71      0.70      2085\n",
      "           2       0.82      0.84      0.83      4844\n",
      "\n",
      "    accuracy                           0.80     11239\n",
      "   macro avg       0.78      0.78      0.78     11239\n",
      "weighted avg       0.80      0.80      0.80     11239\n",
      "\n"
     ]
    },
    {
     "data": {
      "text/plain": [
       "<Axes: >"
      ]
     },
     "execution_count": 27,
     "metadata": {},
     "output_type": "execute_result"
    },
    {
     "data": {
      "image/png": "[encoded data removed]",
      "text/plain": [
       "<Figure size 1000x700 with 2 Axes>"
      ]
     },
     "metadata": {},
     "output_type": "display_data"
    }
   ],
   "source": [
    "model=LogisticRegression()\n",
    "model.fit(x_train,y_train)\n",
    "print('accuracy is ',model.score(x_test,y_test))\n",
    "y_pred=model.predict(x_test)\n",
    "print(classification_report(y_test, y_pred))\n",
    "matrix=confusion_matrix(y_test, y_pred)\n",
    "sns.heatmap(matrix,cmap='Reds')            "
   ]
  },
  {
   "cell_type": "markdown",
   "id": "50ace49c",
   "metadata": {
    "papermill": {
     "duration": 0.025936,
     "end_time": "2023-06-21T05:20:38.680536",
     "exception": false,
     "start_time": "2023-06-21T05:20:38.654600",
     "status": "completed"
    },
    "tags": []
   },
   "source": [
    "# try Ridge"
   ]
  },
  {
   "cell_type": "code",
   "execution_count": 28,
   "id": "132f6abe",
   "metadata": {
    "execution": {
     "iopub.execute_input": "2023-06-21T05:20:38.736052Z",
     "iopub.status.busy": "2023-06-21T05:20:38.734826Z",
     "iopub.status.idle": "2023-06-21T05:20:56.216186Z",
     "shell.execute_reply": "2023-06-21T05:20:56.215199Z"
    },
    "papermill": {
     "duration": 17.512183,
     "end_time": "2023-06-21T05:20:56.219096",
     "exception": false,
     "start_time": "2023-06-21T05:20:38.706913",
     "status": "completed"
    },
    "tags": []
   },
   "outputs": [
    {
     "name": "stdout",
     "output_type": "stream",
     "text": [
      "accuracy is  0.7407242637245307\n",
      "              precision    recall  f1-score   support\n",
      "\n",
      "           0       0.76      0.75      0.76      4310\n",
      "           1       0.61      0.58      0.59      2085\n",
      "           2       0.78      0.80      0.79      4844\n",
      "\n",
      "    accuracy                           0.74     11239\n",
      "   macro avg       0.71      0.71      0.71     11239\n",
      "weighted avg       0.74      0.74      0.74     11239\n",
      "\n"
     ]
    },
    {
     "data": {
      "text/plain": [
       "<Axes: >"
      ]
     },
     "execution_count": 28,
     "metadata": {},
     "output_type": "execute_result"
    },
    {
     "data": {
      "image/png": "[encoded data removed]",
      "text/plain": [
       "<Figure size 1000x700 with 2 Axes>"
      ]
     },
     "metadata": {},
     "output_type": "display_data"
    }
   ],
   "source": [
    "model=RidgeClassifier()\n",
    "model.fit(x_train,y_train)\n",
    "model.score(x_test,y_test)\n",
    "print('accuracy is ',model.score(x_test,y_test))\n",
    "\n",
    "\n",
    "y_pred=model.predict(x_test)\n",
    "print(classification_report(y_test, y_pred))\n",
    "matrix=confusion_matrix(y_test, y_pred)\n",
    "sns.heatmap(matrix,cmap='Reds')            "
   ]
  },
  {
   "cell_type": "markdown",
   "id": "2d7a9732",
   "metadata": {
    "papermill": {
     "duration": 0.028305,
     "end_time": "2023-06-21T05:20:56.274671",
     "exception": false,
     "start_time": "2023-06-21T05:20:56.246366",
     "status": "completed"
    },
    "tags": []
   },
   "source": [
    "# try xgboost"
   ]
  },
  {
   "cell_type": "code",
   "execution_count": 29,
   "id": "193d3736",
   "metadata": {
    "execution": {
     "iopub.execute_input": "2023-06-21T05:20:56.331759Z",
     "iopub.status.busy": "2023-06-21T05:20:56.331333Z",
     "iopub.status.idle": "2023-06-21T05:20:57.503095Z",
     "shell.execute_reply": "2023-06-21T05:20:57.502013Z"
    },
    "papermill": {
     "duration": 1.20343,
     "end_time": "2023-06-21T05:20:57.505477",
     "exception": false,
     "start_time": "2023-06-21T05:20:56.302047",
     "status": "completed"
    },
    "tags": []
   },
   "outputs": [
    {
     "name": "stdout",
     "output_type": "stream",
     "text": [
      "accuracy is  0.816887623454044\n",
      "              precision    recall  f1-score   support\n",
      "\n",
      "           0       0.83      0.82      0.82      4310\n",
      "           1       0.73      0.73      0.73      2085\n",
      "           2       0.84      0.85      0.85      4844\n",
      "\n",
      "    accuracy                           0.82     11239\n",
      "   macro avg       0.80      0.80      0.80     11239\n",
      "weighted avg       0.82      0.82      0.82     11239\n",
      "\n"
     ]
    },
    {
     "data": {
      "text/plain": [
       "<Axes: >"
      ]
     },
     "execution_count": 29,
     "metadata": {},
     "output_type": "execute_result"
    },
    {
     "data": {
      "image/png": "[encoded data removed]",
      "text/plain": [
       "<Figure size 1000x700 with 2 Axes>"
      ]
     },
     "metadata": {},
     "output_type": "display_data"
    }
   ],
   "source": [
    "model=SGDClassifier()\n",
    "model.fit(x_train,y_train)\n",
    "model.score(x_test,y_test)\n",
    "print('accuracy is ',model.score(x_test,y_test))\n",
    "\n",
    "y_pred=model.predict(x_test)\n",
    "print(classification_report(y_test, y_pred))\n",
    "\n",
    "matrix=confusion_matrix(y_test, y_pred)\n",
    "sns.heatmap(matrix,cmap='Reds')            "
   ]
  },
  {
   "cell_type": "markdown",
   "id": "15ea79d0",
   "metadata": {
    "papermill": {
     "duration": 0.027305,
     "end_time": "2023-06-21T05:20:57.560520",
     "exception": false,
     "start_time": "2023-06-21T05:20:57.533215",
     "status": "completed"
    },
    "tags": []
   },
   "source": [
    "# Try bayes naive\n"
   ]
  },
  {
   "cell_type": "code",
   "execution_count": 30,
   "id": "fad82b4f",
   "metadata": {
    "execution": {
     "iopub.execute_input": "2023-06-21T05:20:57.617782Z",
     "iopub.status.busy": "2023-06-21T05:20:57.616674Z",
     "iopub.status.idle": "2023-06-21T05:20:58.011159Z",
     "shell.execute_reply": "2023-06-21T05:20:58.010074Z"
    },
    "papermill": {
     "duration": 0.42566,
     "end_time": "2023-06-21T05:20:58.013503",
     "exception": false,
     "start_time": "2023-06-21T05:20:57.587843",
     "status": "completed"
    },
    "tags": []
   },
   "outputs": [
    {
     "name": "stdout",
     "output_type": "stream",
     "text": [
      "accuracy is  0.6748821069490168\n",
      "              precision    recall  f1-score   support\n",
      "\n",
      "           0       0.68      0.74      0.71      4310\n",
      "           1       0.75      0.21      0.33      2085\n",
      "           2       0.66      0.82      0.73      4844\n",
      "\n",
      "    accuracy                           0.67     11239\n",
      "   macro avg       0.70      0.59      0.59     11239\n",
      "weighted avg       0.69      0.67      0.65     11239\n",
      "\n"
     ]
    },
    {
     "data": {
      "text/plain": [
       "<Axes: >"
      ]
     },
     "execution_count": 30,
     "metadata": {},
     "output_type": "execute_result"
    },
    {
     "data": {
      "image/png": "[encoded data removed]",
      "text/plain": [
       "<Figure size 1000x700 with 2 Axes>"
      ]
     },
     "metadata": {},
     "output_type": "display_data"
    }
   ],
   "source": [
    "model=MultinomialNB()\n",
    "model.fit(x_train,y_train)\n",
    "model.score(x_test,y_test)\n",
    "print('accuracy is ',model.score(x_test,y_test))\n",
    "y_pred=model.predict(x_test)\n",
    "print(classification_report(y_test, y_pred))\n",
    "matrix=confusion_matrix(y_test, y_pred)\n",
    "sns.heatmap(matrix,cmap='Reds')     "
   ]
  },
  {
   "cell_type": "markdown",
   "id": "e7a75e3a",
   "metadata": {
    "papermill": {
     "duration": 0.028007,
     "end_time": "2023-06-21T05:20:58.071585",
     "exception": false,
     "start_time": "2023-06-21T05:20:58.043578",
     "status": "completed"
    },
    "tags": []
   },
   "source": [
    "# Try Random Forest"
   ]
  },
  {
   "cell_type": "code",
   "execution_count": 31,
   "id": "6800f605",
   "metadata": {
    "execution": {
     "iopub.execute_input": "2023-06-21T05:20:58.130089Z",
     "iopub.status.busy": "2023-06-21T05:20:58.129645Z",
     "iopub.status.idle": "2023-06-21T05:26:43.163985Z",
     "shell.execute_reply": "2023-06-21T05:26:43.162786Z"
    },
    "papermill": {
     "duration": 345.066822,
     "end_time": "2023-06-21T05:26:43.166659",
     "exception": false,
     "start_time": "2023-06-21T05:20:58.099837",
     "status": "completed"
    },
    "tags": []
   },
   "outputs": [
    {
     "name": "stdout",
     "output_type": "stream",
     "text": [
      "accuracy is  0.7585194412314262\n",
      "              precision    recall  f1-score   support\n",
      "\n",
      "           0       0.79      0.72      0.75      4310\n",
      "           1       0.71      0.69      0.70      2085\n",
      "           2       0.76      0.83      0.79      4844\n",
      "\n",
      "    accuracy                           0.76     11239\n",
      "   macro avg       0.75      0.74      0.75     11239\n",
      "weighted avg       0.76      0.76      0.76     11239\n",
      "\n"
     ]
    },
    {
     "data": {
      "text/plain": [
       "<Axes: >"
      ]
     },
     "execution_count": 31,
     "metadata": {},
     "output_type": "execute_result"
    },
    {
     "data": {
      "image/png": "[encoded data removed]",
      "text/plain": [
       "<Figure size 1000x700 with 2 Axes>"
      ]
     },
     "metadata": {},
     "output_type": "display_data"
    }
   ],
   "source": [
    "model=RandomForestClassifier()\n",
    "model.fit(x_train,y_train)\n",
    "model.score(x_test,y_test)\n",
    "print('accuracy is ',model.score(x_test,y_test))\n",
    "y_pred=model.predict(x_test)\n",
    "print(classification_report(y_test, y_pred))\n",
    "matrix=confusion_matrix(y_test, y_pred)\n",
    "sns.heatmap(matrix,cmap='Reds')     "
   ]
  },
  {
   "cell_type": "markdown",
   "id": "aeb30d3d",
   "metadata": {
    "papermill": {
     "duration": 0.028904,
     "end_time": "2023-06-21T05:26:43.225003",
     "exception": false,
     "start_time": "2023-06-21T05:26:43.196099",
     "status": "completed"
    },
    "tags": []
   },
   "source": [
    "# AdaBoostClassifier"
   ]
  },
  {
   "cell_type": "code",
   "execution_count": 32,
   "id": "3bc4c5fc",
   "metadata": {
    "execution": {
     "iopub.execute_input": "2023-06-21T05:26:43.286701Z",
     "iopub.status.busy": "2023-06-21T05:26:43.285591Z",
     "iopub.status.idle": "2023-06-21T05:29:05.305823Z",
     "shell.execute_reply": "2023-06-21T05:29:05.304660Z"
    },
    "papermill": {
     "duration": 142.053986,
     "end_time": "2023-06-21T05:29:05.308404",
     "exception": false,
     "start_time": "2023-06-21T05:26:43.254418",
     "status": "completed"
    },
    "tags": []
   },
   "outputs": [
    {
     "name": "stdout",
     "output_type": "stream",
     "text": [
      "accuracy is  0.6236319957291574\n",
      "              precision    recall  f1-score   support\n",
      "\n",
      "           0       0.67      0.59      0.63      4310\n",
      "           1       0.40      0.71      0.51      2085\n",
      "           2       0.79      0.62      0.69      4844\n",
      "\n",
      "    accuracy                           0.62     11239\n",
      "   macro avg       0.62      0.64      0.61     11239\n",
      "weighted avg       0.67      0.62      0.63     11239\n",
      "\n"
     ]
    },
    {
     "data": {
      "text/plain": [
       "<Axes: >"
      ]
     },
     "execution_count": 32,
     "metadata": {},
     "output_type": "execute_result"
    },
    {
     "data": {
      "image/png": "[encoded data removed]",
      "text/plain": [
       "<Figure size 1000x700 with 2 Axes>"
      ]
     },
     "metadata": {},
     "output_type": "display_data"
    }
   ],
   "source": [
    "model=AdaBoostClassifier()\n",
    "model.fit(x_train,y_train)\n",
    "model.score(x_test,y_test)\n",
    "print('accuracy is ',model.score(x_test,y_test))\n",
    "y_pred=model.predict(x_test)\n",
    "print(classification_report(y_test, y_pred))\n",
    "matrix=confusion_matrix(y_test, y_pred)\n",
    "sns.heatmap(matrix,cmap='Reds')     "
   ]
  },
  {
   "cell_type": "markdown",
   "id": "d061a7e4",
   "metadata": {
    "papermill": {
     "duration": 0.029872,
     "end_time": "2023-06-21T05:29:05.368125",
     "exception": false,
     "start_time": "2023-06-21T05:29:05.338253",
     "status": "completed"
    },
    "tags": []
   },
   "source": [
    "# Try XGboost"
   ]
  },
  {
   "cell_type": "code",
   "execution_count": 33,
   "id": "a2e59feb",
   "metadata": {
    "execution": {
     "iopub.execute_input": "2023-06-21T05:29:05.427286Z",
     "iopub.status.busy": "2023-06-21T05:29:05.426591Z",
     "iopub.status.idle": "2023-06-21T08:11:47.438520Z",
     "shell.execute_reply": "2023-06-21T08:11:47.437075Z"
    },
    "papermill": {
     "duration": 9762.069319,
     "end_time": "2023-06-21T08:11:47.465753",
     "exception": false,
     "start_time": "2023-06-21T05:29:05.396434",
     "status": "completed"
    },
    "tags": []
   },
   "outputs": [
    {
     "data": {
      "text/plain": [
       "0.8013168431355103"
      ]
     },
     "execution_count": 33,
     "metadata": {},
     "output_type": "execute_result"
    }
   ],
   "source": [
    "learning_rate = [0.0001, 0.001, 0.01, 0.1]\n",
    "max_depth = [1,3,5,7]\n",
    "n_estimators = [5,10,100,500]\n",
    "grid_params ={'max_depth':max_depth,'n_estimators':n_estimators, 'learning_rate':learning_rate}\n",
    "\n",
    "model = GridSearchCV(XGBClassifier(), grid_params,\n",
    "                      scoring = 'accuracy', cv=10,n_jobs=-1, return_train_score=True)\n",
    "model.fit(x_train, y_train)\n",
    "model.score(x_test,y_test)"
   ]
  },
  {
   "cell_type": "markdown",
   "id": "dd023967",
   "metadata": {
    "papermill": {
     "duration": 0.029693,
     "end_time": "2023-06-21T08:11:47.526088",
     "exception": false,
     "start_time": "2023-06-21T08:11:47.496395",
     "status": "completed"
    },
    "tags": []
   },
   "source": [
    "# try all in one using VotingClassifier"
   ]
  },
  {
   "cell_type": "code",
   "execution_count": 34,
   "id": "19411bc4",
   "metadata": {
    "execution": {
     "iopub.execute_input": "2023-06-21T08:11:47.589823Z",
     "iopub.status.busy": "2023-06-21T08:11:47.588164Z",
     "iopub.status.idle": "2023-06-21T11:14:34.462248Z",
     "shell.execute_reply": "2023-06-21T11:14:34.461000Z"
    },
    "papermill": {
     "duration": 10966.908381,
     "end_time": "2023-06-21T11:14:34.464782",
     "exception": false,
     "start_time": "2023-06-21T08:11:47.556401",
     "status": "completed"
    },
    "tags": []
   },
   "outputs": [
    {
     "name": "stdout",
     "output_type": "stream",
     "text": [
      "accuracy is  0.8136844915028028\n",
      "              precision    recall  f1-score   support\n",
      "\n",
      "           0       0.83      0.76      0.80      4310\n",
      "           1       0.70      0.81      0.75      2085\n",
      "           2       0.83      0.83      0.83      4844\n",
      "\n",
      "    accuracy                           0.80     11239\n",
      "   macro avg       0.79      0.80      0.79     11239\n",
      "weighted avg       0.81      0.80      0.80     11239\n",
      "\n"
     ]
    },
    {
     "data": {
      "text/plain": [
       "<Axes: >"
      ]
     },
     "execution_count": 34,
     "metadata": {},
     "output_type": "execute_result"
    },
    {
     "data": {
      "image/png": "[encoded data removed]",
      "text/plain": [
       "<Figure size 1000x700 with 2 Axes>"
      ]
     },
     "metadata": {},
     "output_type": "display_data"
    }
   ],
   "source": [
    "vote=VotingClassifier([('ridge',RidgeClassifier()),('sgd',SGDClassifier()),('log',LogisticRegression()),('linear svc',LinearSVC()),('svc',SVC()),('rf',RandomForestClassifier()),('xg',model)])\n",
    "vote.fit(x_train,y_train)\n",
    "vote.score(x_test,y_test)\n",
    "print('accuracy is ',vote.score(x_test,y_test))\n",
    "\n",
    "\n",
    "y_pred=model.predict(x_test)\n",
    "print(classification_report(y_test, y_pred))\n",
    "\n",
    "matrix=confusion_matrix(y_test, y_pred)\n",
    "sns.heatmap(matrix,cmap='Reds')            "
   ]
  },
  {
   "cell_type": "markdown",
   "id": "4423fbb4",
   "metadata": {
    "papermill": {
     "duration": 0.030126,
     "end_time": "2023-06-21T11:14:34.525542",
     "exception": false,
     "start_time": "2023-06-21T11:14:34.495416",
     "status": "completed"
    },
    "tags": []
   },
   "source": [
    "# try tf idf victorizer with SVM"
   ]
  },
  {
   "cell_type": "code",
   "execution_count": 35,
   "id": "17d13d5f",
   "metadata": {
    "execution": {
     "iopub.execute_input": "2023-06-21T11:14:34.587158Z",
     "iopub.status.busy": "2023-06-21T11:14:34.585999Z",
     "iopub.status.idle": "2023-06-21T11:14:34.611477Z",
     "shell.execute_reply": "2023-06-21T11:14:34.610593Z"
    },
    "papermill": {
     "duration": 0.058937,
     "end_time": "2023-06-21T11:14:34.613991",
     "exception": false,
     "start_time": "2023-06-21T11:14:34.555054",
     "status": "completed"
    },
    "tags": []
   },
   "outputs": [],
   "source": [
    "x_train,x_test,y_train,y_test =train_test_split(x_tf,data['Sentiment'])"
   ]
  },
  {
   "cell_type": "code",
   "execution_count": 36,
   "id": "9b7aecfd",
   "metadata": {
    "execution": {
     "iopub.execute_input": "2023-06-21T11:14:34.676809Z",
     "iopub.status.busy": "2023-06-21T11:14:34.676094Z",
     "iopub.status.idle": "2023-06-21T11:14:35.865790Z",
     "shell.execute_reply": "2023-06-21T11:14:35.864778Z"
    },
    "papermill": {
     "duration": 1.223519,
     "end_time": "2023-06-21T11:14:35.868148",
     "exception": false,
     "start_time": "2023-06-21T11:14:34.644629",
     "status": "completed"
    },
    "tags": []
   },
   "outputs": [
    {
     "name": "stdout",
     "output_type": "stream",
     "text": [
      "accuracy is  0.796245217546045\n",
      "              precision    recall  f1-score   support\n",
      "\n",
      "           0       0.81      0.80      0.81      4265\n",
      "           1       0.72      0.64      0.68      2114\n",
      "           2       0.81      0.86      0.83      4860\n",
      "\n",
      "    accuracy                           0.80     11239\n",
      "   macro avg       0.78      0.77      0.77     11239\n",
      "weighted avg       0.79      0.80      0.79     11239\n",
      "\n"
     ]
    },
    {
     "data": {
      "text/plain": [
       "<Axes: >"
      ]
     },
     "execution_count": 36,
     "metadata": {},
     "output_type": "execute_result"
    },
    {
     "data": {
      "image/png": "[encoded data removed]",
      "text/plain": [
       "<Figure size 1000x700 with 2 Axes>"
      ]
     },
     "metadata": {},
     "output_type": "display_data"
    }
   ],
   "source": [
    "\n",
    "model=LinearSVC()\n",
    "model.fit(x_train,y_train)\n",
    "model.score(x_test,y_test)\n",
    "print('accuracy is ',model.score(x_test,y_test))\n",
    "y_pred=model.predict(x_test)\n",
    "print(classification_report(y_test, y_pred))\n",
    "matrix=confusion_matrix(y_test, y_pred)\n",
    "sns.heatmap(matrix,cmap='Reds')         "
   ]
  },
  {
   "cell_type": "code",
   "execution_count": 37,
   "id": "ce75ed0c",
   "metadata": {
    "execution": {
     "iopub.execute_input": "2023-06-21T11:14:35.932544Z",
     "iopub.status.busy": "2023-06-21T11:14:35.931436Z",
     "iopub.status.idle": "2023-06-21T11:34:37.960786Z",
     "shell.execute_reply": "2023-06-21T11:34:37.959536Z"
    },
    "papermill": {
     "duration": 1202.063527,
     "end_time": "2023-06-21T11:34:37.963426",
     "exception": false,
     "start_time": "2023-06-21T11:14:35.899899",
     "status": "completed"
    },
    "tags": []
   },
   "outputs": [
    {
     "name": "stdout",
     "output_type": "stream",
     "text": [
      "accuracy is  0.7660823916718569\n",
      "              precision    recall  f1-score   support\n",
      "\n",
      "           0       0.77      0.79      0.78      4265\n",
      "           1       0.74      0.50      0.60      2114\n",
      "           2       0.77      0.86      0.81      4860\n",
      "\n",
      "    accuracy                           0.77     11239\n",
      "   macro avg       0.76      0.72      0.73     11239\n",
      "weighted avg       0.76      0.77      0.76     11239\n",
      "\n"
     ]
    },
    {
     "data": {
      "text/plain": [
       "<Axes: >"
      ]
     },
     "execution_count": 37,
     "metadata": {},
     "output_type": "execute_result"
    },
    {
     "data": {
      "image/png": "[encoded data removed]",
      "text/plain": [
       "<Figure size 1000x700 with 2 Axes>"
      ]
     },
     "metadata": {},
     "output_type": "display_data"
    }
   ],
   "source": [
    "model=SVC()\n",
    "model.fit(x_train,y_train)\n",
    "model.score(x_test,y_test)\n",
    "print('accuracy is ',model.score(x_test,y_test))\n",
    "y_pred=model.predict(x_test)\n",
    "print(classification_report(y_test, y_pred))\n",
    "matrix=confusion_matrix(y_test, y_pred)\n",
    "sns.heatmap(matrix,cmap='Reds')         "
   ]
  },
  {
   "cell_type": "code",
   "execution_count": null,
   "id": "08c5df9b",
   "metadata": {
    "papermill": {
     "duration": 0.033307,
     "end_time": "2023-06-21T11:34:38.031090",
     "exception": false,
     "start_time": "2023-06-21T11:34:37.997783",
     "status": "completed"
    },
    "tags": []
   },
   "outputs": [],
   "source": []
  },
  {
   "cell_type": "code",
   "execution_count": null,
   "id": "78c0d58b",
   "metadata": {
    "papermill": {
     "duration": 0.032594,
     "end_time": "2023-06-21T11:34:38.097415",
     "exception": false,
     "start_time": "2023-06-21T11:34:38.064821",
     "status": "completed"
    },
    "tags": []
   },
   "outputs": [],
   "source": []
  },
  {
   "cell_type": "code",
   "execution_count": null,
   "id": "d22ea499",
   "metadata": {
    "papermill": {
     "duration": 0.032617,
     "end_time": "2023-06-21T11:34:38.163643",
     "exception": false,
     "start_time": "2023-06-21T11:34:38.131026",
     "status": "completed"
    },
    "tags": []
   },
   "outputs": [],
   "source": []
  },
  {
   "cell_type": "code",
   "execution_count": null,
   "id": "53ba6c6b",
   "metadata": {
    "papermill": {
     "duration": 0.033256,
     "end_time": "2023-06-21T11:34:38.229933",
     "exception": false,
     "start_time": "2023-06-21T11:34:38.196677",
     "status": "completed"
    },
    "tags": []
   },
   "outputs": [],
   "source": []
  },
  {
   "cell_type": "code",
   "execution_count": null,
   "id": "c16bc230",
   "metadata": {
    "papermill": {
     "duration": 0.033576,
     "end_time": "2023-06-21T11:34:38.296641",
     "exception": false,
     "start_time": "2023-06-21T11:34:38.263065",
     "status": "completed"
    },
    "tags": []
   },
   "outputs": [],
   "source": []
  },
  {
   "cell_type": "code",
   "execution_count": null,
   "id": "3ec6c814",
   "metadata": {
    "papermill": {
     "duration": 0.032539,
     "end_time": "2023-06-21T11:34:38.362132",
     "exception": false,
     "start_time": "2023-06-21T11:34:38.329593",
     "status": "completed"
    },
    "tags": []
   },
   "outputs": [],
   "source": []
  }
 ],
 "metadata": {
  "kernelspec": {
   "display_name": "Python 3",
   "language": "python",
   "name": "python3"
  },
  "language_info": {
   "codemirror_mode": {
    "name": "ipython",
    "version": 3
   },
   "file_extension": ".py",
   "mimetype": "text/x-python",
   "name": "python",
   "nbconvert_exporter": "python",
   "pygments_lexer": "ipython3",
   "version": "3.10.10"
  },
  "papermill": {
   "default_parameters": {},
   "duration": 22536.141401,
   "end_time": "2023-06-21T11:34:41.079808",
   "environment_variables": {},
   "exception": null,
   "input_path": "__notebook__.ipynb",
   "output_path": "__notebook__.ipynb",
   "parameters": {},
   "start_time": "2023-06-21T05:19:04.938407",
   "version": "2.4.0"
  }
 },
 "nbformat": 4,
 "nbformat_minor": 5
}
